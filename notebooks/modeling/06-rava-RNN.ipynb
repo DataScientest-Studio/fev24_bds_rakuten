{
 "cells": [
  {
   "cell_type": "code",
   "execution_count": 15,
   "metadata": {},
   "outputs": [],
   "source": [
    "%matplotlib inline\n",
    "import numpy as np\n",
    "import pandas as pd\n",
    "\n",
    "from sklearn.model_selection import train_test_split\n",
    "from keras.utils import to_categorical\n",
    "\n",
    "import matplotlib.pyplot as plt\n",
    "\n",
    "# Constantes\n",
    "PATH_TO_ROOT = \"../../\"\n",
    "PATH_DATA = PATH_TO_ROOT + \"data/\"\n",
    "PATH_RAW = PATH_DATA + \"raw/\"\n",
    "PATH_PROCESSED = PATH_DATA + \"processed/\"\n",
    "PATH_EXTERNAL = PATH_DATA + \"external/\"\n",
    "SEED = 123\n",
    "\n",
    "pd.set_option(\"display.max_columns\", 20)\n",
    "pd.set_option(\"display.max_rows\", 200)\n",
    "\n",
    "def change_format_hour(total_seconds):\n",
    "    \"\"\"Function to convert total seconds into hours, minutes and seconds format.\n",
    "    Args:\n",
    "        total_seconds (int): Total number of seconds to convert.\n",
    "        \n",
    "    Returns:\n",
    "        None, but prints the formatted runtime in the following format: HH:MM:SS\n",
    "    \"\"\"\n",
    "    hours = int(total_seconds // 3600)\n",
    "    minutes = int((total_seconds % 3600) // 60)\n",
    "    seconds = int(total_seconds % 60)\n",
    "    print(f\"Total runtime: {hours:02d}:{minutes:02d}:{seconds:02d}s\")\n"
   ]
  },
  {
   "cell_type": "markdown",
   "metadata": {},
   "source": [
    "# Chargement des données"
   ]
  },
  {
   "cell_type": "code",
   "execution_count": 2,
   "metadata": {},
   "outputs": [
    {
     "data": {
      "text/html": [
       "<div>\n",
       "<style scoped>\n",
       "    .dataframe tbody tr th:only-of-type {\n",
       "        vertical-align: middle;\n",
       "    }\n",
       "\n",
       "    .dataframe tbody tr th {\n",
       "        vertical-align: top;\n",
       "    }\n",
       "\n",
       "    .dataframe thead th {\n",
       "        text-align: right;\n",
       "    }\n",
       "</style>\n",
       "<table border=\"1\" class=\"dataframe\">\n",
       "  <thead>\n",
       "    <tr style=\"text-align: right;\">\n",
       "      <th></th>\n",
       "      <th>prdtypecode</th>\n",
       "      <th>text</th>\n",
       "    </tr>\n",
       "  </thead>\n",
       "  <tbody>\n",
       "    <tr>\n",
       "      <th>0</th>\n",
       "      <td>10</td>\n",
       "      <td>Olivia: Personalisiertes Notizbuch / 150 Seite...</td>\n",
       "    </tr>\n",
       "    <tr>\n",
       "      <th>1</th>\n",
       "      <td>2280</td>\n",
       "      <td>Journal Des Arts (Le) N° 133 Du 28/09/2001 - L...</td>\n",
       "    </tr>\n",
       "    <tr>\n",
       "      <th>2</th>\n",
       "      <td>50</td>\n",
       "      <td>Grand Stylet Ergonomique Bleu Gamepad Nintendo...</td>\n",
       "    </tr>\n",
       "    <tr>\n",
       "      <th>3</th>\n",
       "      <td>1280</td>\n",
       "      <td>Peluche Donald - Europe - Disneyland 2000 (Mar...</td>\n",
       "    </tr>\n",
       "    <tr>\n",
       "      <th>4</th>\n",
       "      <td>2705</td>\n",
       "      <td>La Guerre Des Tuques Luc a des id&amp;eacute;es de...</td>\n",
       "    </tr>\n",
       "  </tbody>\n",
       "</table>\n",
       "</div>"
      ],
      "text/plain": [
       "   prdtypecode                                               text\n",
       "0           10  Olivia: Personalisiertes Notizbuch / 150 Seite...\n",
       "1         2280  Journal Des Arts (Le) N° 133 Du 28/09/2001 - L...\n",
       "2           50  Grand Stylet Ergonomique Bleu Gamepad Nintendo...\n",
       "3         1280  Peluche Donald - Europe - Disneyland 2000 (Mar...\n",
       "4         2705  La Guerre Des Tuques Luc a des id&eacute;es de..."
      ]
     },
     "metadata": {},
     "output_type": "display_data"
    },
    {
     "name": "stdout",
     "output_type": "stream",
     "text": [
      "<class 'pandas.core.frame.DataFrame'>\n",
      "Index: 84916 entries, 0 to 84915\n",
      "Data columns (total 2 columns):\n",
      " #   Column       Non-Null Count  Dtype \n",
      "---  ------       --------------  ----- \n",
      " 0   prdtypecode  84916 non-null  int64 \n",
      " 1   text         84916 non-null  object\n",
      "dtypes: int64(1), object(1)\n",
      "memory usage: 1.9+ MB\n"
     ]
    },
    {
     "data": {
      "text/plain": [
       "None"
      ]
     },
     "metadata": {},
     "output_type": "display_data"
    }
   ],
   "source": [
    "df = pd.read_csv(PATH_RAW + \"x_train.csv\", index_col=0)\n",
    "df_target = pd.read_csv(PATH_RAW + \"y_train.csv\", index_col=0)\n",
    "df[df_target.columns[0]] = df_target\n",
    "\n",
    "df[\"text\"] = np.where(\n",
    "    df[\"description\"].isna(),\n",
    "    df[\"designation\"].astype(str),\n",
    "    df[\"designation\"].astype(str) + \" \" + df[\"description\"].astype(str),\n",
    ")\n",
    "\n",
    "df.drop(\"designation\", axis=1, inplace=True)\n",
    "df.drop(\"description\", axis=1, inplace=True)\n",
    "df.drop(\"productid\", axis=1, inplace=True)\n",
    "df.drop(\"imageid\", axis=1, inplace=True)\n",
    "\n",
    "display(df.head())\n",
    "display(df.info())"
   ]
  },
  {
   "cell_type": "code",
   "execution_count": 3,
   "metadata": {},
   "outputs": [
    {
     "name": "stdout",
     "output_type": "stream",
     "text": [
      "All classes: [10209  5073  5045  4993  4989  4870  4774  4760  4303  3953  3241  3116\n",
      "  2761  2671  2589  2508  2496  2491  2070  1681  1421   872   832   824\n",
      "   807   803   764]\n",
      "nombre de class : 27\n",
      "median : 2671\n",
      "Index([2583, 1560, 1300, 2060, 2522, 1280, 2403, 2280, 1920, 1160, 1320, 10,\n",
      "       2705],\n",
      "      dtype='int64', name='prdtypecode')\n"
     ]
    }
   ],
   "source": [
    "value_counts = df[\"prdtypecode\"].value_counts()\n",
    "num_classes = value_counts.shape[0]\n",
    "print(\"All classes:\", value_counts.unique())\n",
    "print(f\"nombre de class : {num_classes}\")\n",
    "\n",
    "median = int(value_counts.quantile(0.5))\n",
    "print(\"median :\", median)\n",
    "\n",
    "value_counts_index = value_counts[value_counts > median].index\n",
    "print(value_counts_index)"
   ]
  },
  {
   "cell_type": "code",
   "execution_count": 4,
   "metadata": {},
   "outputs": [
    {
     "name": "stdout",
     "output_type": "stream",
     "text": [
      "(84916,)\n",
      "(84916,)\n"
     ]
    }
   ],
   "source": [
    "to_split = False\n",
    "\n",
    "index_row = []\n",
    "if to_split:\n",
    "    for i in value_counts.index:\n",
    "        if i in value_counts_index:\n",
    "            index_row.extend(\n",
    "                df.loc[df[\"prdtypecode\"] == i].sample(n=median, random_state=123).index\n",
    "            )\n",
    "        else:\n",
    "            index_row.extend(df.loc[df[\"prdtypecode\"] == i].index)\n",
    "else:\n",
    "    index_row.extend(df.index)\n",
    "\n",
    "data = df.loc[df.index.isin(index_row)][\"text\"]\n",
    "target = df.loc[df.index.isin(index_row)][\"prdtypecode\"].astype(\"str\")\n",
    "\n",
    "print(data.shape)\n",
    "print(target.shape)"
   ]
  },
  {
   "cell_type": "code",
   "execution_count": 5,
   "metadata": {},
   "outputs": [
    {
     "name": "stdout",
     "output_type": "stream",
     "text": [
      "(67932, 27)\n"
     ]
    }
   ],
   "source": [
    "from sklearn.calibration import LabelEncoder\n",
    "from sklearn.utils.class_weight import compute_class_weight\n",
    "\n",
    "\n",
    "X_train, X_test, y_train, y_test = train_test_split(\n",
    "    data, target, test_size=0.2, random_state=SEED\n",
    ")\n",
    "\n",
    "X_train = np.expand_dims(X_train, axis=1)\n",
    "X_test = np.expand_dims(X_test, axis=1)\n",
    "\n",
    "# Encode\n",
    "le = LabelEncoder()\n",
    "y_train = le.fit_transform(y_train)\n",
    "y_test = le.transform(y_test)\n",
    "\n",
    "# Vectorize\n",
    "y_train = to_categorical(y_train, num_classes)\n",
    "y_test = to_categorical(y_test, num_classes)\n",
    "\n",
    "print(y_train.shape)"
   ]
  },
  {
   "cell_type": "code",
   "execution_count": 6,
   "metadata": {},
   "outputs": [
    {
     "name": "stdout",
     "output_type": "stream",
     "text": [
      "{0: 1.0003976143141153, 1: 1.1873525247758376, 2: 0.7956989247311828, 3: 4.0256, 4: 0.6408558329088131, 5: 1.5202416918429003, 6: 0.6229264669472642, 7: 3.852986217457887, 8: 1.2668680765357503, 9: 0.965464313123561, 10: 0.6127618119824647, 11: 0.7320337503636892, 12: 4.006369426751593, 13: 0.6397152301042461, 14: 3.738484398216939, 15: 0.6628029504741834, 16: 0.6629776021080369, 17: 2.240427426536064, 18: 0.6296296296296297, 19: 1.2184019370460049, 20: 0.3081822635962763, 21: 1.2778059928897918, 22: 1.1307865168539326, 23: 3.5586987270155586, 24: 1.2375799311362519, 25: 1.8776119402985074, 26: 3.8353658536585367}\n",
      "(67932, 1)\n",
      "(67932, 27)\n"
     ]
    }
   ],
   "source": [
    "y_train_1d = np.argmax(y_train, axis=1)\n",
    "\n",
    "# Appliquer des poids aux classes selon l'équilibrage du dataset\n",
    "class_weights = compute_class_weight(\n",
    "    class_weight=\"balanced\", classes=np.unique(y_train_1d), y=y_train_1d\n",
    ")\n",
    "\n",
    "# Create a dictionary mapping class indices to their corresponding weights\n",
    "class_weight_dict = dict(zip(np.unique(y_train_1d), class_weights))\n",
    "\n",
    "print(class_weight_dict)\n",
    "\n",
    "print(X_train.shape)\n",
    "print(y_train.shape)"
   ]
  },
  {
   "cell_type": "code",
   "execution_count": 7,
   "metadata": {},
   "outputs": [
    {
     "name": "stdout",
     "output_type": "stream",
     "text": [
      "median: 314.0\n",
      "mean: 595.3682933722738\n"
     ]
    }
   ],
   "source": [
    "df[\"len\"] = df[\"text\"].str.len()\n",
    "print(\"median:\", df[\"len\"].median())\n",
    "print(\"mean:\", df[\"len\"].mean())"
   ]
  },
  {
   "cell_type": "markdown",
   "metadata": {},
   "source": [
    "# CNN\n",
    "## PRE-PROCESSING\n",
    "\n",
    "https://www.tensorflow.org/text/guide/word_embeddings?hl=fr"
   ]
  },
  {
   "cell_type": "code",
   "execution_count": 8,
   "metadata": {},
   "outputs": [],
   "source": [
    "# Pour libérer de la RAM\n",
    "del df, data, df_target, index_row, target"
   ]
  },
  {
   "cell_type": "markdown",
   "metadata": {},
   "source": [
    "## Configurer l'ensemble de données pour les performances\n",
    "Ce sont deux méthodes importantes que vous devez utiliser lors du chargement des données pour vous assurer que les E/S ne deviennent pas bloquantes.\n",
    "\n",
    "- .cache() conserve les données en mémoire après leur chargement sur le disque. Cela garantira que l'ensemble de données ne devienne pas un goulot d'étranglement lors de la formation de votre modèle. Si votre jeu de données est trop volumineux pour tenir en mémoire, vous pouvez également utiliser cette méthode pour créer un cache sur disque performant, plus efficace à lire que de nombreux petits fichiers.\n",
    "\n",
    "- .prefetch() chevauche le prétraitement des données et l'exécution du modèle pendant la formation.\n",
    "\n",
    "Vous pouvez en savoir plus sur les deux méthodes, ainsi que sur la mise en cache des données sur le disque dans le guide des performances des données ."
   ]
  },
  {
   "cell_type": "code",
   "execution_count": 9,
   "metadata": {},
   "outputs": [
    {
     "name": "stdout",
     "output_type": "stream",
     "text": [
      "(67932, 1)\n",
      "(16984, 1)\n"
     ]
    },
    {
     "name": "stderr",
     "output_type": "stream",
     "text": [
      "2024-04-15 16:57:20.872134: I metal_plugin/src/device/metal_device.cc:1154] Metal device set to: Apple M2 Pro\n",
      "2024-04-15 16:57:20.872155: I metal_plugin/src/device/metal_device.cc:296] systemMemory: 16.00 GB\n",
      "2024-04-15 16:57:20.872162: I metal_plugin/src/device/metal_device.cc:313] maxCacheSize: 5.33 GB\n",
      "2024-04-15 16:57:20.872180: I tensorflow/core/common_runtime/pluggable_device/pluggable_device_factory.cc:305] Could not identify NUMA node of platform GPU ID 0, defaulting to 0. Your kernel may not have been built with NUMA support.\n",
      "2024-04-15 16:57:20.872193: I tensorflow/core/common_runtime/pluggable_device/pluggable_device_factory.cc:271] Created TensorFlow device (/job:localhost/replica:0/task:0/device:GPU:0 with 0 MB memory) -> physical PluggableDevice (device: 0, name: METAL, pci bus id: <undefined>)\n"
     ]
    }
   ],
   "source": [
    "import tensorflow as tf\n",
    "\n",
    "AUTOTUNE = tf.data.AUTOTUNE\n",
    "train_ds = X_train\n",
    "\n",
    "# train_ds = tf.strings.as_string(X_train)\n",
    "val_ds = tf.strings.as_string(X_test)\n",
    "\n",
    "# train_ds = train_ds.cache().prefetch(buffer_size=AUTOTUNE)\n",
    "# val_ds = val_ds.cache().prefetch(buffer_size=AUTOTUNE)\n",
    "\n",
    "print(train_ds.shape)\n",
    "print(val_ds.shape)"
   ]
  },
  {
   "cell_type": "code",
   "execution_count": 10,
   "metadata": {},
   "outputs": [
    {
     "data": {
      "text/plain": [
       "'mlflow.set_tracking_uri(\"../mlruns\")  # \"http://127.0.0.1:8080\"\\nmlflow.set_experiment(experiment_name=\"DecisionTreeClassifier_model\")\\nmlflow.autolog(log_datasets=False)'"
      ]
     },
     "execution_count": 10,
     "metadata": {},
     "output_type": "execute_result"
    }
   ],
   "source": [
    "# import mlflow\n",
    "\n",
    "\"\"\"mlflow.set_tracking_uri(\"../mlruns\")  # \"http://127.0.0.1:8080\"\n",
    "mlflow.set_experiment(experiment_name=\"DecisionTreeClassifier_model\")\n",
    "mlflow.autolog(log_datasets=False)\"\"\""
   ]
  },
  {
   "cell_type": "code",
   "execution_count": 11,
   "metadata": {},
   "outputs": [
    {
     "name": "stdout",
     "output_type": "stream",
     "text": [
      "type: <class 'numpy.ndarray'>   shape:  (67932, 1)\n"
     ]
    }
   ],
   "source": [
    "from keras.layers import TextVectorization\n",
    "import string\n",
    "import re\n",
    "\n",
    "\n",
    "def custom_standardization(input_data):\n",
    "    \"\"\"\n",
    "    Custom standardization function for text data.\n",
    "\n",
    "    Args:\n",
    "        input_data: The input text data.\n",
    "\n",
    "    Returns:\n",
    "        The standardized text data.\n",
    "    \"\"\"\n",
    "    decoded_html = tf.strings.unicode_decode(input_data, \"UTF-8\")\n",
    "    encoded_html = tf.strings.unicode_encode(decoded_html, \"UTF-8\")\n",
    "    stripped_html = tf.strings.regex_replace(encoded_html, \"<[^>]*>\", \" \")\n",
    "    lowercase = tf.strings.lower(stripped_html)\n",
    "    cleaned_input_data = tf.strings.regex_replace(lowercase, r\"\\s+\", \" \")\n",
    "    return tf.strings.regex_replace(\n",
    "        cleaned_input_data, \"[%s]\" % re.escape(string.punctuation), \"\"\n",
    "    )\n",
    "\n",
    "\n",
    "# Vocabulary size and number of words in a sequence.\n",
    "# median = 320\n",
    "# mean = 600\n",
    "sequence_length = 600\n",
    "\n",
    "# Use the text vectorization layer to normalize, split, and map strings to\n",
    "# integers. Note that the layer uses the custom standardization defined above.\n",
    "# Set maximum_sequence length as all samples are not of the same length.\n",
    "vectorize_layer = TextVectorization(\n",
    "    standardize=custom_standardization,\n",
    "    max_tokens=10000,\n",
    "    output_mode=\"int\",\n",
    "    output_sequence_length=sequence_length,\n",
    ")\n",
    "\n",
    "# Make a text-only dataset (no labels) and call adapt to build the vocabulary.\n",
    "text_ds = train_ds\n",
    "vectorize_layer.adapt(text_ds)\n",
    "print(\"type:\", type(text_ds), \"  shape: \", text_ds.shape)\n",
    "\n",
    "# SMOTE\n",
    "# smote = SMOTE(random_state=SEED)\n",
    "# text_ds, y_train = smote.fit_resample(text_ds, y_train)\n",
    "# print(\"type:\", type(text_ds), \"  shape: \", text_ds.shape)"
   ]
  },
  {
   "cell_type": "markdown",
   "metadata": {},
   "source": [
    "## Utilisation de la couche Incorporation\n",
    "Keras facilite l'utilisation des incorporations de mots. Jetez un œil à la couche Embedding .\n",
    "\n",
    "La couche Embedding peut être comprise comme une table de correspondance qui mappe des indices entiers (qui représentent des mots spécifiques) à des vecteurs denses (leurs incorporations). La dimensionnalité (ou largeur) de l'incorporation est un paramètre que vous pouvez expérimenter pour voir ce qui fonctionne bien pour votre problème, de la même manière que vous expérimenteriez avec le nombre de neurones dans une couche Dense."
   ]
  },
  {
   "cell_type": "code",
   "execution_count": 12,
   "metadata": {},
   "outputs": [
    {
     "data": {
      "text/plain": [
       "[PhysicalDevice(name='/physical_device:GPU:0', device_type='GPU')]"
      ]
     },
     "execution_count": 12,
     "metadata": {},
     "output_type": "execute_result"
    }
   ],
   "source": [
    "tf.config.list_physical_devices(\"GPU\")"
   ]
  },
  {
   "cell_type": "code",
   "execution_count": 13,
   "metadata": {},
   "outputs": [],
   "source": [
    "from keras.layers import (\n",
    "    Embedding,\n",
    "    Dense,\n",
    "    Bidirectional,\n",
    "    Dropout,\n",
    "    LSTM,\n",
    ")\n",
    "from keras import Sequential, losses, optimizers, utils\n",
    "from keras.callbacks import ReduceLROnPlateau, EarlyStopping"
   ]
  },
  {
   "cell_type": "code",
   "execution_count": 14,
   "metadata": {},
   "outputs": [],
   "source": [
    "early_stopping = EarlyStopping(\n",
    "    patience=10,  # Attendre n epochs avant application\n",
    "    min_delta=0.005,  # si au bout de n epochs la fonction de perte ne varie pas de n %,\n",
    "    # que ce soit à la hausse ou à la baisse, on arrête\n",
    "    verbose=1,  # Afficher à quel epoch on s'arrête\n",
    "    mode=\"min\",\n",
    "    monitor=\"val_loss\",\n",
    ")\n",
    "\n",
    "reduce_learning_rate = ReduceLROnPlateau(\n",
    "    monitor=\"val_loss\",\n",
    "    patience=5,  # si val_loss stagne sur n epochs consécutives selon la valeur min_delta\n",
    "    min_delta=0.005,\n",
    "    factor=0.2,  # On réduit le learning rate d'un facteur n\n",
    "    cooldown=4,  # On attend n epochs avant de réitérer\n",
    "    verbose=1,\n",
    ")"
   ]
  },
  {
   "cell_type": "code",
   "execution_count": 15,
   "metadata": {},
   "outputs": [
    {
     "data": {
      "text/html": [
       "<pre style=\"white-space:pre;overflow-x:auto;line-height:normal;font-family:Menlo,'DejaVu Sans Mono',consolas,'Courier New',monospace\"><span style=\"font-weight: bold\">Model: \"sequential_1\"</span>\n",
       "</pre>\n"
      ],
      "text/plain": [
       "\u001b[1mModel: \"sequential_1\"\u001b[0m\n"
      ]
     },
     "metadata": {},
     "output_type": "display_data"
    },
    {
     "data": {
      "text/html": [
       "<pre style=\"white-space:pre;overflow-x:auto;line-height:normal;font-family:Menlo,'DejaVu Sans Mono',consolas,'Courier New',monospace\">┏━━━━━━━━━━━━━━━━━━━━━━━━━━━━━━━━━┳━━━━━━━━━━━━━━━━━━━━━━━━┳━━━━━━━━━━━━━━━┓\n",
       "┃<span style=\"font-weight: bold\"> Layer (type)                    </span>┃<span style=\"font-weight: bold\"> Output Shape           </span>┃<span style=\"font-weight: bold\">       Param # </span>┃\n",
       "┡━━━━━━━━━━━━━━━━━━━━━━━━━━━━━━━━━╇━━━━━━━━━━━━━━━━━━━━━━━━╇━━━━━━━━━━━━━━━┩\n",
       "│ text_vectorization              │ ?                      │   <span style=\"color: #00af00; text-decoration-color: #00af00\">0</span> (unbuilt) │\n",
       "│ (<span style=\"color: #0087ff; text-decoration-color: #0087ff\">TextVectorization</span>)             │                        │               │\n",
       "├─────────────────────────────────┼────────────────────────┼───────────────┤\n",
       "│ embedding_1 (<span style=\"color: #0087ff; text-decoration-color: #0087ff\">Embedding</span>)         │ ?                      │   <span style=\"color: #00af00; text-decoration-color: #00af00\">0</span> (unbuilt) │\n",
       "├─────────────────────────────────┼────────────────────────┼───────────────┤\n",
       "│ bidirectional_1 (<span style=\"color: #0087ff; text-decoration-color: #0087ff\">Bidirectional</span>) │ ?                      │   <span style=\"color: #00af00; text-decoration-color: #00af00\">0</span> (unbuilt) │\n",
       "├─────────────────────────────────┼────────────────────────┼───────────────┤\n",
       "│ dense_2 (<span style=\"color: #0087ff; text-decoration-color: #0087ff\">Dense</span>)                 │ ?                      │   <span style=\"color: #00af00; text-decoration-color: #00af00\">0</span> (unbuilt) │\n",
       "├─────────────────────────────────┼────────────────────────┼───────────────┤\n",
       "│ dropout_1 (<span style=\"color: #0087ff; text-decoration-color: #0087ff\">Dropout</span>)             │ ?                      │             <span style=\"color: #00af00; text-decoration-color: #00af00\">0</span> │\n",
       "├─────────────────────────────────┼────────────────────────┼───────────────┤\n",
       "│ dense_3 (<span style=\"color: #0087ff; text-decoration-color: #0087ff\">Dense</span>)                 │ ?                      │   <span style=\"color: #00af00; text-decoration-color: #00af00\">0</span> (unbuilt) │\n",
       "└─────────────────────────────────┴────────────────────────┴───────────────┘\n",
       "</pre>\n"
      ],
      "text/plain": [
       "┏━━━━━━━━━━━━━━━━━━━━━━━━━━━━━━━━━┳━━━━━━━━━━━━━━━━━━━━━━━━┳━━━━━━━━━━━━━━━┓\n",
       "┃\u001b[1m \u001b[0m\u001b[1mLayer (type)                   \u001b[0m\u001b[1m \u001b[0m┃\u001b[1m \u001b[0m\u001b[1mOutput Shape          \u001b[0m\u001b[1m \u001b[0m┃\u001b[1m \u001b[0m\u001b[1m      Param #\u001b[0m\u001b[1m \u001b[0m┃\n",
       "┡━━━━━━━━━━━━━━━━━━━━━━━━━━━━━━━━━╇━━━━━━━━━━━━━━━━━━━━━━━━╇━━━━━━━━━━━━━━━┩\n",
       "│ text_vectorization              │ ?                      │   \u001b[38;5;34m0\u001b[0m (unbuilt) │\n",
       "│ (\u001b[38;5;33mTextVectorization\u001b[0m)             │                        │               │\n",
       "├─────────────────────────────────┼────────────────────────┼───────────────┤\n",
       "│ embedding_1 (\u001b[38;5;33mEmbedding\u001b[0m)         │ ?                      │   \u001b[38;5;34m0\u001b[0m (unbuilt) │\n",
       "├─────────────────────────────────┼────────────────────────┼───────────────┤\n",
       "│ bidirectional_1 (\u001b[38;5;33mBidirectional\u001b[0m) │ ?                      │   \u001b[38;5;34m0\u001b[0m (unbuilt) │\n",
       "├─────────────────────────────────┼────────────────────────┼───────────────┤\n",
       "│ dense_2 (\u001b[38;5;33mDense\u001b[0m)                 │ ?                      │   \u001b[38;5;34m0\u001b[0m (unbuilt) │\n",
       "├─────────────────────────────────┼────────────────────────┼───────────────┤\n",
       "│ dropout_1 (\u001b[38;5;33mDropout\u001b[0m)             │ ?                      │             \u001b[38;5;34m0\u001b[0m │\n",
       "├─────────────────────────────────┼────────────────────────┼───────────────┤\n",
       "│ dense_3 (\u001b[38;5;33mDense\u001b[0m)                 │ ?                      │   \u001b[38;5;34m0\u001b[0m (unbuilt) │\n",
       "└─────────────────────────────────┴────────────────────────┴───────────────┘\n"
      ]
     },
     "metadata": {},
     "output_type": "display_data"
    },
    {
     "data": {
      "text/html": [
       "<pre style=\"white-space:pre;overflow-x:auto;line-height:normal;font-family:Menlo,'DejaVu Sans Mono',consolas,'Courier New',monospace\"><span style=\"font-weight: bold\"> Total params: </span><span style=\"color: #00af00; text-decoration-color: #00af00\">0</span> (0.00 B)\n",
       "</pre>\n"
      ],
      "text/plain": [
       "\u001b[1m Total params: \u001b[0m\u001b[38;5;34m0\u001b[0m (0.00 B)\n"
      ]
     },
     "metadata": {},
     "output_type": "display_data"
    },
    {
     "data": {
      "text/html": [
       "<pre style=\"white-space:pre;overflow-x:auto;line-height:normal;font-family:Menlo,'DejaVu Sans Mono',consolas,'Courier New',monospace\"><span style=\"font-weight: bold\"> Trainable params: </span><span style=\"color: #00af00; text-decoration-color: #00af00\">0</span> (0.00 B)\n",
       "</pre>\n"
      ],
      "text/plain": [
       "\u001b[1m Trainable params: \u001b[0m\u001b[38;5;34m0\u001b[0m (0.00 B)\n"
      ]
     },
     "metadata": {},
     "output_type": "display_data"
    },
    {
     "data": {
      "text/html": [
       "<pre style=\"white-space:pre;overflow-x:auto;line-height:normal;font-family:Menlo,'DejaVu Sans Mono',consolas,'Courier New',monospace\"><span style=\"font-weight: bold\"> Non-trainable params: </span><span style=\"color: #00af00; text-decoration-color: #00af00\">0</span> (0.00 B)\n",
       "</pre>\n"
      ],
      "text/plain": [
       "\u001b[1m Non-trainable params: \u001b[0m\u001b[38;5;34m0\u001b[0m (0.00 B)\n"
      ]
     },
     "metadata": {},
     "output_type": "display_data"
    }
   ],
   "source": [
    "model = Sequential(\n",
    "    [\n",
    "        vectorize_layer,\n",
    "        Embedding(len(vectorize_layer.get_vocabulary()), 32, mask_zero=True),\n",
    "        # Bidirectional(LSTM(16, return_sequences=True)),\n",
    "        Bidirectional(LSTM(16)),\n",
    "        Dense(16, activation=\"relu\"),\n",
    "        Dropout(0.5),\n",
    "        Dense(num_classes),\n",
    "    ]\n",
    ")\n",
    "\n",
    "optim = optimizers.Adam(0.001)\n",
    "loss = losses.CategoricalCrossentropy()\n",
    "# Compile the model\n",
    "model.compile(\n",
    "    optimizer=optim,\n",
    "    loss=loss,\n",
    "    metrics=[\"accuracy\"],\n",
    ")"
   ]
  },
  {
   "cell_type": "code",
   "execution_count": null,
   "metadata": {},
   "outputs": [],
   "source": [
    "# Train the model\n",
    "training_history = model.fit(\n",
    "    text_ds,\n",
    "    y_train,\n",
    "    epochs=40,\n",
    "    batch_size=16,\n",
    "    validation_data=(X_test, y_test),\n",
    "    callbacks=[reduce_learning_rate, early_stopping],\n",
    "    class_weight=class_weight_dict,\n",
    ")"
   ]
  },
  {
   "cell_type": "code",
   "execution_count": null,
   "metadata": {},
   "outputs": [],
   "source": [
    "model.summary()"
   ]
  },
  {
   "cell_type": "code",
   "execution_count": 16,
   "metadata": {},
   "outputs": [
    {
     "data": {
      "image/png": "[encoded data removed]",
      "text/plain": [
       "<Figure size 1000x600 with 2 Axes>"
      ]
     },
     "metadata": {},
     "output_type": "display_data"
    }
   ],
   "source": [
    "fig, ax = plt.subplots(figsize=(10, 6))\n",
    "\n",
    "range_epochs = np.arange(1, len(training_history.epoch) + 1, 1)\n",
    "\n",
    "# Courbe de la précision sur l'échantillon d'entrainement\n",
    "ax.plot(\n",
    "    range_epochs,\n",
    "    training_history.history[\"accuracy\"],\n",
    "    label=\"Training Accuracy\",\n",
    "    color=\"blue\",\n",
    ")\n",
    "\n",
    "ax.plot(\n",
    "    range_epochs,\n",
    "    training_history.history[\"val_accuracy\"],\n",
    "    label=\"Validation Accuracy\",\n",
    "    color=\"green\",\n",
    ")\n",
    "ax.set_xlabel(\"Epochs\")\n",
    "ax.set_ylabel(\"Accuracy\")\n",
    "ax.tick_params(\"y\", colors=\"blue\")\n",
    "\n",
    "# Courbe de la précision sur l'échantillon de test\n",
    "ax2 = ax.twinx()\n",
    "ax2.plot(\n",
    "    range_epochs,\n",
    "    training_history.history[\"loss\"],\n",
    "    label=\"Training Loss\",\n",
    "    color=\"red\",\n",
    ")\n",
    "ax2.plot(\n",
    "    range_epochs,\n",
    "    training_history.history[\"val_loss\"],\n",
    "    label=\"Validation Loss\",\n",
    "    color=\"orange\",\n",
    ")\n",
    "ax2.set_ylabel(\"Loss\")\n",
    "ax2.tick_params(\"y\", colors=\"red\")\n",
    "\n",
    "# Affichage de la légende\n",
    "lines1, labels1 = ax.get_legend_handles_labels()\n",
    "lines2, labels2 = ax2.get_legend_handles_labels()\n",
    "ax.legend(lines1 + lines2, labels1 + labels2, loc=\"upper left\")\n",
    "\n",
    "# Affichage de la figure\n",
    "plt.show()"
   ]
  },
  {
   "cell_type": "code",
   "execution_count": 22,
   "metadata": {},
   "outputs": [
    {
     "ename": "ValueError",
     "evalue": "Unrecognized data type: x=Starfield est un jeu de rôle et d'action de 2023 développé par Bethesda Game Studios et publié par Bethesda Softworks. Dans le jeu, le joueur rejoint un groupe d'explorateurs de l'espace qui doivent s'aventurer dans divers coins de la galaxie pour acquérir de mystérieux artefacts. (of type <class 'str'>)",
     "output_type": "error",
     "traceback": [
      "\u001b[0;31m---------------------------------------------------------------------------\u001b[0m",
      "\u001b[0;31mValueError\u001b[0m                                Traceback (most recent call last)",
      "Cell \u001b[0;32mIn[22], line 2\u001b[0m\n\u001b[1;32m      1\u001b[0m t \u001b[38;5;241m=\u001b[39m \u001b[38;5;124m\"\u001b[39m\u001b[38;5;124mStarfield est un jeu de rôle et d\u001b[39m\u001b[38;5;124m'\u001b[39m\u001b[38;5;124maction de 2023 développé par Bethesda Game Studios et publié par Bethesda Softworks. Dans le jeu, le joueur rejoint un groupe d\u001b[39m\u001b[38;5;124m'\u001b[39m\u001b[38;5;124mexplorateurs de l\u001b[39m\u001b[38;5;124m'\u001b[39m\u001b[38;5;124mespace qui doivent s\u001b[39m\u001b[38;5;124m'\u001b[39m\u001b[38;5;124maventurer dans divers coins de la galaxie pour acquérir de mystérieux artefacts.\u001b[39m\u001b[38;5;124m\"\u001b[39m\n\u001b[0;32m----> 2\u001b[0m pred \u001b[38;5;241m=\u001b[39m \u001b[43mmodel\u001b[49m\u001b[38;5;241;43m.\u001b[39;49m\u001b[43mpredict\u001b[49m\u001b[43m(\u001b[49m\u001b[43mt\u001b[49m\u001b[43m)\u001b[49m\n\u001b[1;32m      3\u001b[0m pred\n",
      "File \u001b[0;32m/opt/anaconda3/lib/python3.10/site-packages/keras/src/utils/traceback_utils.py:122\u001b[0m, in \u001b[0;36mfilter_traceback.<locals>.error_handler\u001b[0;34m(*args, **kwargs)\u001b[0m\n\u001b[1;32m    119\u001b[0m     filtered_tb \u001b[38;5;241m=\u001b[39m _process_traceback_frames(e\u001b[38;5;241m.\u001b[39m__traceback__)\n\u001b[1;32m    120\u001b[0m     \u001b[38;5;66;03m# To get the full stack trace, call:\u001b[39;00m\n\u001b[1;32m    121\u001b[0m     \u001b[38;5;66;03m# `keras.config.disable_traceback_filtering()`\u001b[39;00m\n\u001b[0;32m--> 122\u001b[0m     \u001b[38;5;28;01mraise\u001b[39;00m e\u001b[38;5;241m.\u001b[39mwith_traceback(filtered_tb) \u001b[38;5;28;01mfrom\u001b[39;00m \u001b[38;5;28;01mNone\u001b[39;00m\n\u001b[1;32m    123\u001b[0m \u001b[38;5;28;01mfinally\u001b[39;00m:\n\u001b[1;32m    124\u001b[0m     \u001b[38;5;28;01mdel\u001b[39;00m filtered_tb\n",
      "File \u001b[0;32m/opt/anaconda3/lib/python3.10/site-packages/keras/src/trainers/data_adapters/__init__.py:113\u001b[0m, in \u001b[0;36mget_data_adapter\u001b[0;34m(x, y, sample_weight, batch_size, steps_per_epoch, shuffle, class_weight)\u001b[0m\n\u001b[1;32m    105\u001b[0m     \u001b[38;5;28;01mreturn\u001b[39;00m GeneratorDataAdapter(x)\n\u001b[1;32m    106\u001b[0m     \u001b[38;5;66;03m# TODO: should we warn or not?\u001b[39;00m\n\u001b[1;32m    107\u001b[0m     \u001b[38;5;66;03m# warnings.warn(\u001b[39;00m\n\u001b[1;32m    108\u001b[0m     \u001b[38;5;66;03m#     \"`shuffle=True` was passed, but will be ignored since the \"\u001b[39;00m\n\u001b[0;32m   (...)\u001b[0m\n\u001b[1;32m    111\u001b[0m     \u001b[38;5;66;03m# )\u001b[39;00m\n\u001b[1;32m    112\u001b[0m \u001b[38;5;28;01melse\u001b[39;00m:\n\u001b[0;32m--> 113\u001b[0m     \u001b[38;5;28;01mraise\u001b[39;00m \u001b[38;5;167;01mValueError\u001b[39;00m(\u001b[38;5;124mf\u001b[39m\u001b[38;5;124m\"\u001b[39m\u001b[38;5;124mUnrecognized data type: x=\u001b[39m\u001b[38;5;132;01m{\u001b[39;00mx\u001b[38;5;132;01m}\u001b[39;00m\u001b[38;5;124m (of type \u001b[39m\u001b[38;5;132;01m{\u001b[39;00m\u001b[38;5;28mtype\u001b[39m(x)\u001b[38;5;132;01m}\u001b[39;00m\u001b[38;5;124m)\u001b[39m\u001b[38;5;124m\"\u001b[39m)\n",
      "\u001b[0;31mValueError\u001b[0m: Unrecognized data type: x=Starfield est un jeu de rôle et d'action de 2023 développé par Bethesda Game Studios et publié par Bethesda Softworks. Dans le jeu, le joueur rejoint un groupe d'explorateurs de l'espace qui doivent s'aventurer dans divers coins de la galaxie pour acquérir de mystérieux artefacts. (of type <class 'str'>)"
     ]
    }
   ],
   "source": [
    "t = \"Starfield est un jeu de rôle et d'action de 2023 développé par Bethesda Game Studios et publié par Bethesda Softworks. Dans le jeu, le joueur rejoint un groupe d'explorateurs de l'espace qui doivent s'aventurer dans divers coins de la galaxie pour acquérir de mystérieux artefacts.\"\n",
    "pred = model.predict(t)\n",
    "pred  # normalement prdtypecode = 2462"
   ]
  },
  {
   "cell_type": "code",
   "execution_count": 28,
   "metadata": {},
   "outputs": [
    {
     "data": {
      "image/png": "[encoded data removed]",
      "text/plain": [
       "<Figure size 1000x600 with 2 Axes>"
      ]
     },
     "metadata": {},
     "output_type": "display_data"
    }
   ],
   "source": [
    "from matplotlib.pylab import exponential\n",
    "\n",
    "\n",
    "fig, (ax1, ax2) = plt.subplots(1, 2, figsize=(10, 6))\n",
    "\n",
    "range_epochs = np.arange(1, 9 + 1, 1)\n",
    "\n",
    "# Courbe de la précision sur l'échantillon d'entrainement\n",
    "ax1.plot(\n",
    "\trange_epochs,\n",
    "\tnp.exp(np.arange(2, 11, 1)),\n",
    "\tlabel=\"Training Accuracy\",\n",
    "\tcolor=\"blue\",\n",
    ")\n",
    "\n",
    "ax1.plot(\n",
    "\trange_epochs,\n",
    "\tnp.exp(np.arange(1, 10, 1)),\n",
    "\tlabel=\"Validation Accuracy\",\n",
    "\tcolor=\"orange\",\n",
    ")\n",
    "ax1.set_xlabel(\"Epochs\")\n",
    "ax1.set_ylabel(\"Accuracy\")\n",
    "ax1.set_title(\"Training and Validation Accuracy\")\n",
    "ax1.legend()\n",
    "\n",
    "# Courbe de la précision sur l'échantillon de test\n",
    "ax2.plot(\n",
    "\trange_epochs,\n",
    "\tnp.exp(np.arange(1.1, 0.2, -0.1)),\n",
    "\tlabel=\"Training Loss\",\n",
    "\tcolor=\"blue\",\n",
    ")\n",
    "ax2.plot(\n",
    "\trange_epochs,\n",
    "\tnp.exp(np.arange(1, 0.1, -0.1)),\n",
    "\tlabel=\"Validation Loss\",\n",
    "\tcolor=\"orange\",\n",
    ")\n",
    "ax2.set_xlabel(\"Epochs\")\n",
    "ax2.set_ylabel(\"Loss\")\n",
    "ax2.set_title(\"Training and Validation Loss\")\n",
    "ax2.legend()\n",
    "\n",
    "# Affichage de la figure\n",
    "plt.show()"
   ]
  },
  {
   "cell_type": "code",
   "execution_count": null,
   "metadata": {},
   "outputs": [],
   "source": []
  }
 ],
 "metadata": {
  "kernelspec": {
   "display_name": "bds_rakuten_env",
   "language": "python",
   "name": "python3"
  },
  "language_info": {
   "codemirror_mode": {
    "name": "ipython",
    "version": 3
   },
   "file_extension": ".py",
   "mimetype": "text/x-python",
   "name": "python",
   "nbconvert_exporter": "python",
   "pygments_lexer": "ipython3",
   "version": "3.10.14"
  }
 },
 "nbformat": 4,
 "nbformat_minor": 2
}
