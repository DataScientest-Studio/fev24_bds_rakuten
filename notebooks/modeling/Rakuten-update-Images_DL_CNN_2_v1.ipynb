{
 "cells": [
  {
   "cell_type": "code",
   "execution_count": 1,
   "metadata": {},
   "outputs": [],
   "source": [
    "import pandas as pd\n",
    "import numpy as np\n",
    "from skimage import io, color, transform\n",
    "from tensorflow.keras.models import Sequential\n",
    "from tensorflow.keras.layers import Conv2D, MaxPooling2D, Flatten, Dense, Dropout\n",
    "from tensorflow.keras.optimizers import Adam\n",
    "from sklearn.model_selection import train_test_split\n",
    "from sklearn.preprocessing import LabelEncoder\n",
    "from imblearn.over_sampling import RandomOverSampler\n",
    "import os"
   ]
  },
  {
   "cell_type": "code",
   "execution_count": 2,
   "metadata": {},
   "outputs": [],
   "source": [
    "# Chemins vers les images et les données CSV\n",
    "images_path = \"C:/Users/user/OneDrive/DATASIENCETEST/PROJET/Data/Update/images/image_train\"\n",
    "X_csv_path = \"C:/Users/user/OneDrive/DATASIENCETEST/PROJET/Data/Update/X_train_update.csv\"\n",
    "y_csv_path = \"C:/Users/user/OneDrive/DATASIENCETEST/PROJET/Data/Update/Y_train_CVw08PX.csv\"\n",
    "\n",
    "# Chargement des données\n",
    "X_df = pd.read_csv(X_csv_path)\n",
    "y_df = pd.read_csv(y_csv_path)\n",
    "\n"
   ]
  },
  {
   "cell_type": "code",
   "execution_count": 3,
   "metadata": {},
   "outputs": [],
   "source": [
    "# Vérification de la présence de la colonne 'prdtypecode'\n",
    "if 'prdtypecode' not in y_df.columns:\n",
    "    raise ValueError(\"La colonne 'prdtypecode' n'existe pas dans le DataFrame y_df. Veuillez vérifier les données.\")"
   ]
  },
  {
   "cell_type": "code",
   "execution_count": 4,
   "metadata": {},
   "outputs": [],
   "source": [
    "\n",
    "# Encoder pour transformer les labels en entiers continus de 0 à N-1\n",
    "encoder = LabelEncoder()\n",
    "y_df['encoded_labels'] = encoder.fit_transform(y_df['prdtypecode'])\n",
    "X_df['labels'] = y_df['encoded_labels']"
   ]
  },
  {
   "cell_type": "code",
   "execution_count": 5,
   "metadata": {},
   "outputs": [],
   "source": [
    "# Préparation du DataFrame final pour ImageDataGenerator\n",
    "X_df['image_path'] = X_df.apply(lambda x: f\"{images_path}/image_{x['imageid']}_product_{x['productid']}.jpg\", axis=1)\n",
    "data_df = X_df[['image_path', 'labels']]"
   ]
  },
  {
   "cell_type": "code",
   "execution_count": 6,
   "metadata": {},
   "outputs": [
    {
     "name": "stdout",
     "output_type": "stream",
     "text": [
      "Found 67933 validated image filenames.\n",
      "Found 16983 validated image filenames.\n"
     ]
    }
   ],
   "source": [
    "from tensorflow.keras.preprocessing.image import ImageDataGenerator\n",
    "# Création de l'ImageDataGenerator\n",
    "datagen = ImageDataGenerator(\n",
    "    rescale=1./255,\n",
    "    validation_split=0.2  # 20% des données pour la validation\n",
    ")\n",
    "\n",
    "# Générateur pour les données d'entraînement\n",
    "train_generator = datagen.flow_from_dataframe(\n",
    "    dataframe=data_df,\n",
    "    x_col='image_path',\n",
    "    y_col='labels',\n",
    "    target_size=(64, 64),\n",
    "    color_mode='grayscale',\n",
    "    class_mode='raw',\n",
    "    batch_size=32,\n",
    "    shuffle=True,\n",
    "    subset='training'\n",
    ")\n",
    "\n",
    "# Générateur pour les données de validation\n",
    "validation_generator = datagen.flow_from_dataframe(\n",
    "    dataframe=data_df,\n",
    "    x_col='image_path',\n",
    "    y_col='labels',\n",
    "    target_size=(64, 64),\n",
    "    color_mode='grayscale',\n",
    "    class_mode='raw',\n",
    "    batch_size=32,\n",
    "    shuffle=True,\n",
    "    subset='validation'\n",
    ")"
   ]
  },
  {
   "cell_type": "code",
   "execution_count": 7,
   "metadata": {},
   "outputs": [
    {
     "name": "stderr",
     "output_type": "stream",
     "text": [
      "C:\\Users\\user\\AppData\\Local\\Packages\\PythonSoftwareFoundation.Python.3.10_qbz5n2kfra8p0\\LocalCache\\local-packages\\Python310\\site-packages\\keras\\src\\layers\\convolutional\\base_conv.py:99: UserWarning: Do not pass an `input_shape`/`input_dim` argument to a layer. When using Sequential models, prefer using an `Input(shape)` object as the first layer in the model instead.\n",
      "  super().__init__(\n"
     ]
    }
   ],
   "source": [
    "# Définition du modèle CNN\n",
    "model = Sequential([\n",
    "    Conv2D(32, (3, 3), activation='relu', input_shape=(64, 64, 1)),\n",
    "    MaxPooling2D(2, 2),\n",
    "    Conv2D(64, (3, 3), activation='relu'),\n",
    "    MaxPooling2D(2, 2),\n",
    "    Flatten(),\n",
    "    Dense(128, activation='relu'),\n",
    "    Dropout(0.5),\n",
    "    Dense(len(encoder.classes_), activation='softmax')  # Nombre de classes dynamique\n",
    "])"
   ]
  },
  {
   "cell_type": "code",
   "execution_count": 8,
   "metadata": {},
   "outputs": [],
   "source": [
    "# Compilation du modèle\n",
    "model.compile(optimizer=Adam(learning_rate=0.001), loss='sparse_categorical_crossentropy', metrics=['accuracy'])"
   ]
  },
  {
   "cell_type": "code",
   "execution_count": 9,
   "metadata": {},
   "outputs": [
    {
     "name": "stdout",
     "output_type": "stream",
     "text": [
      "Epoch 1/20\n"
     ]
    },
    {
     "name": "stderr",
     "output_type": "stream",
     "text": [
      "C:\\Users\\user\\AppData\\Local\\Packages\\PythonSoftwareFoundation.Python.3.10_qbz5n2kfra8p0\\LocalCache\\local-packages\\Python310\\site-packages\\keras\\src\\trainers\\data_adapters\\py_dataset_adapter.py:120: UserWarning: Your `PyDataset` class should call `super().__init__(**kwargs)` in its constructor. `**kwargs` can include `workers`, `use_multiprocessing`, `max_queue_size`. Do not pass these arguments to `fit()`, as they will be ignored.\n",
      "  self._warn_if_super_not_called()\n"
     ]
    },
    {
     "name": "stdout",
     "output_type": "stream",
     "text": [
      "2123/2123 - 3742s - 2s/step - accuracy: 0.2343 - loss: 2.6868 - val_accuracy: 0.3297 - val_loss: 2.3250\n",
      "Epoch 2/20\n",
      "2123/2123 - 3491s - 2s/step - accuracy: 0.3115 - loss: 2.3953 - val_accuracy: 0.3703 - val_loss: 2.1991\n",
      "Epoch 3/20\n",
      "2123/2123 - 13280s - 6s/step - accuracy: 0.3442 - loss: 2.2774 - val_accuracy: 0.3876 - val_loss: 2.1394\n",
      "Epoch 4/20\n",
      "2123/2123 - 2360s - 1s/step - accuracy: 0.3643 - loss: 2.2009 - val_accuracy: 0.4065 - val_loss: 2.0773\n",
      "Epoch 5/20\n",
      "2123/2123 - 778s - 366ms/step - accuracy: 0.3794 - loss: 2.1319 - val_accuracy: 0.4083 - val_loss: 2.0470\n",
      "Epoch 6/20\n"
     ]
    }
   ],
   "source": [
    "# Entraînement du modèle\n",
    "model.fit(train_generator, epochs=20, validation_data=validation_generator, verbose=2)\n"
   ]
  },
  {
   "cell_type": "code",
   "execution_count": null,
   "metadata": {},
   "outputs": [
    {
     "name": "stdout",
     "output_type": "stream",
     "text": [
      "\u001b[1m531/531\u001b[0m \u001b[32m━━━━━━━━━━━━━━━━━━━━\u001b[0m\u001b[37m\u001b[0m \u001b[1m456s\u001b[0m 859ms/step - accuracy: 0.4430 - loss: 1.9754\n",
      "Validation Accuracy: 44.08%\n"
     ]
    }
   ],
   "source": [
    "# Évaluation du modèle sur le set de validation\n",
    "val_loss, val_accuracy = model.evaluate(validation_generator)\n",
    "print(f\"Validation Accuracy: {val_accuracy*100:.2f}%\")"
   ]
  }
 ],
 "metadata": {
  "kernelspec": {
   "display_name": "Python 3",
   "language": "python",
   "name": "python3"
  },
  "language_info": {
   "codemirror_mode": {
    "name": "ipython",
    "version": 3
   },
   "file_extension": ".py",
   "mimetype": "text/x-python",
   "name": "python",
   "nbconvert_exporter": "python",
   "pygments_lexer": "ipython3",
   "version": "3.10.11"
  }
 },
 "nbformat": 4,
 "nbformat_minor": 2
}
