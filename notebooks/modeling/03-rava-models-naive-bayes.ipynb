{
 "cells": [
  {
   "cell_type": "code",
   "execution_count": 8,
   "metadata": {},
   "outputs": [],
   "source": [
    "import pandas as pd \n",
    "import numpy as np\n",
    "import seaborn as sns\n",
    "import matplotlib.pyplot as plt\n",
    "%matplotlib inline\n",
    "from sklearn.feature_extraction.text import TfidfVectorizer\n",
    "from sklearn.model_selection import train_test_split\n",
    "from tqdm.auto import tqdm\n",
    "from sklearn.model_selection import GridSearchCV\n",
    "from sklearn import metrics\n",
    "import time\n",
    "import mlflow\n",
    "\n",
    "from imblearn.over_sampling import SMOTE\n",
    "from sklearn.naive_bayes import MultinomialNB, ComplementNB, GaussianNB\n",
    "\n",
    "# Constantes\n",
    "PATH_TO_ROOT = \"../../\"\n",
    "PATH_DATA = PATH_TO_ROOT + \"data/\"\n",
    "PATH_RAW = PATH_DATA + \"raw/\"\n",
    "PATH_PROCESSED = PATH_DATA + \"processed/\"\n",
    "PATH_EXTERNAL = PATH_DATA + \"external/\"\n",
    "SEED = 123\n",
    "\n",
    "pd.set_option(\"display.max_columns\", 20)\n",
    "pd.set_option(\"display.max_rows\", 200)\n",
    "\n",
    "def change_format_hour(total_seconds):\n",
    "    \"\"\"Function to convert total seconds into hours, minutes and seconds format.\n",
    "    Args:\n",
    "        total_seconds (int): Total number of seconds to convert.\n",
    "        \n",
    "    Returns:\n",
    "        None, but prints the formatted runtime in the following format: HH:MM:SS\n",
    "    \"\"\"\n",
    "    hours = int(total_seconds // 3600)\n",
    "    minutes = int((total_seconds % 3600) // 60)\n",
    "    seconds = int(total_seconds % 60)\n",
    "    print(f\"Total runtime: {hours:02d}:{minutes:02d}:{seconds:02d}s\")\n"
   ]
  },
  {
   "cell_type": "markdown",
   "metadata": {},
   "source": [
    "# Chargement des données"
   ]
  },
  {
   "cell_type": "code",
   "execution_count": 9,
   "metadata": {},
   "outputs": [
    {
     "data": {
      "text/html": [
       "<div>\n",
       "<style scoped>\n",
       "    .dataframe tbody tr th:only-of-type {\n",
       "        vertical-align: middle;\n",
       "    }\n",
       "\n",
       "    .dataframe tbody tr th {\n",
       "        vertical-align: top;\n",
       "    }\n",
       "\n",
       "    .dataframe thead th {\n",
       "        text-align: right;\n",
       "    }\n",
       "</style>\n",
       "<table border=\"1\" class=\"dataframe\">\n",
       "  <thead>\n",
       "    <tr style=\"text-align: right;\">\n",
       "      <th></th>\n",
       "      <th>productid</th>\n",
       "      <th>imageid</th>\n",
       "      <th>text</th>\n",
       "      <th>lemmes</th>\n",
       "      <th>len_text</th>\n",
       "      <th>len_lemmes</th>\n",
       "      <th>prdtypecode</th>\n",
       "    </tr>\n",
       "  </thead>\n",
       "  <tbody>\n",
       "    <tr>\n",
       "      <th>0</th>\n",
       "      <td>3804725264</td>\n",
       "      <td>1263597046</td>\n",
       "      <td>pages de carnet personnalisées olivia dot grid...</td>\n",
       "      <td>page de carnet personnalisé olivia dot grid ca...</td>\n",
       "      <td>68</td>\n",
       "      <td>64</td>\n",
       "      <td>10</td>\n",
       "    </tr>\n",
       "    <tr>\n",
       "      <th>1</th>\n",
       "      <td>436067568</td>\n",
       "      <td>1008141237</td>\n",
       "      <td>journal des arts le n du l art et son marche s...</td>\n",
       "      <td>journal des art le ne du l art et son marche s...</td>\n",
       "      <td>177</td>\n",
       "      <td>172</td>\n",
       "      <td>2280</td>\n",
       "    </tr>\n",
       "    <tr>\n",
       "      <th>2</th>\n",
       "      <td>201115110</td>\n",
       "      <td>938777978</td>\n",
       "      <td>grand stylet ergonomique bleu gamepad nintendo...</td>\n",
       "      <td>grand stylet ergonomique bleu gamepad nintendo...</td>\n",
       "      <td>731</td>\n",
       "      <td>732</td>\n",
       "      <td>50</td>\n",
       "    </tr>\n",
       "    <tr>\n",
       "      <th>3</th>\n",
       "      <td>50418756</td>\n",
       "      <td>457047496</td>\n",
       "      <td>peluche donald europe disneyland marionnette à...</td>\n",
       "      <td>peluche donald europe disneyland marionnette à...</td>\n",
       "      <td>52</td>\n",
       "      <td>52</td>\n",
       "      <td>1280</td>\n",
       "    </tr>\n",
       "    <tr>\n",
       "      <th>4</th>\n",
       "      <td>278535884</td>\n",
       "      <td>1077757786</td>\n",
       "      <td>la guerre des tuques luc a des idées de grande...</td>\n",
       "      <td>la guerre des tuques luc a des idée de grandeu...</td>\n",
       "      <td>203</td>\n",
       "      <td>212</td>\n",
       "      <td>2705</td>\n",
       "    </tr>\n",
       "  </tbody>\n",
       "</table>\n",
       "</div>"
      ],
      "text/plain": [
       "    productid     imageid                                               text  \\\n",
       "0  3804725264  1263597046  pages de carnet personnalisées olivia dot grid...   \n",
       "1   436067568  1008141237  journal des arts le n du l art et son marche s...   \n",
       "2   201115110   938777978  grand stylet ergonomique bleu gamepad nintendo...   \n",
       "3    50418756   457047496  peluche donald europe disneyland marionnette à...   \n",
       "4   278535884  1077757786  la guerre des tuques luc a des idées de grande...   \n",
       "\n",
       "                                              lemmes  len_text  len_lemmes  \\\n",
       "0  page de carnet personnalisé olivia dot grid ca...        68          64   \n",
       "1  journal des art le ne du l art et son marche s...       177         172   \n",
       "2  grand stylet ergonomique bleu gamepad nintendo...       731         732   \n",
       "3  peluche donald europe disneyland marionnette à...        52          52   \n",
       "4  la guerre des tuques luc a des idée de grandeu...       203         212   \n",
       "\n",
       "   prdtypecode  \n",
       "0           10  \n",
       "1         2280  \n",
       "2           50  \n",
       "3         1280  \n",
       "4         2705  "
      ]
     },
     "metadata": {},
     "output_type": "display_data"
    },
    {
     "data": {
      "text/html": [
       "<div>\n",
       "<style scoped>\n",
       "    .dataframe tbody tr th:only-of-type {\n",
       "        vertical-align: middle;\n",
       "    }\n",
       "\n",
       "    .dataframe tbody tr th {\n",
       "        vertical-align: top;\n",
       "    }\n",
       "\n",
       "    .dataframe thead th {\n",
       "        text-align: right;\n",
       "    }\n",
       "</style>\n",
       "<table border=\"1\" class=\"dataframe\">\n",
       "  <thead>\n",
       "    <tr style=\"text-align: right;\">\n",
       "      <th></th>\n",
       "      <th>productid</th>\n",
       "      <th>imageid</th>\n",
       "      <th>len_text</th>\n",
       "      <th>len_lemmes</th>\n",
       "      <th>prdtypecode</th>\n",
       "    </tr>\n",
       "  </thead>\n",
       "  <tbody>\n",
       "    <tr>\n",
       "      <th>count</th>\n",
       "      <td>8.491600e+04</td>\n",
       "      <td>8.491600e+04</td>\n",
       "      <td>84916.000000</td>\n",
       "      <td>84916.000000</td>\n",
       "      <td>84916.000000</td>\n",
       "    </tr>\n",
       "    <tr>\n",
       "      <th>mean</th>\n",
       "      <td>2.555468e+09</td>\n",
       "      <td>1.152691e+09</td>\n",
       "      <td>520.531537</td>\n",
       "      <td>517.319422</td>\n",
       "      <td>1773.219900</td>\n",
       "    </tr>\n",
       "    <tr>\n",
       "      <th>std</th>\n",
       "      <td>1.588656e+09</td>\n",
       "      <td>1.751427e+08</td>\n",
       "      <td>664.802838</td>\n",
       "      <td>660.806625</td>\n",
       "      <td>788.179885</td>\n",
       "    </tr>\n",
       "    <tr>\n",
       "      <th>min</th>\n",
       "      <td>1.839120e+05</td>\n",
       "      <td>6.728400e+04</td>\n",
       "      <td>4.000000</td>\n",
       "      <td>4.000000</td>\n",
       "      <td>10.000000</td>\n",
       "    </tr>\n",
       "    <tr>\n",
       "      <th>25%</th>\n",
       "      <td>6.760519e+08</td>\n",
       "      <td>1.056269e+09</td>\n",
       "      <td>57.000000</td>\n",
       "      <td>56.000000</td>\n",
       "      <td>1281.000000</td>\n",
       "    </tr>\n",
       "    <tr>\n",
       "      <th>50%</th>\n",
       "      <td>3.190506e+09</td>\n",
       "      <td>1.213354e+09</td>\n",
       "      <td>265.000000</td>\n",
       "      <td>263.000000</td>\n",
       "      <td>1920.000000</td>\n",
       "    </tr>\n",
       "    <tr>\n",
       "      <th>75%</th>\n",
       "      <td>3.995599e+09</td>\n",
       "      <td>1.275646e+09</td>\n",
       "      <td>806.000000</td>\n",
       "      <td>803.000000</td>\n",
       "      <td>2522.000000</td>\n",
       "    </tr>\n",
       "    <tr>\n",
       "      <th>max</th>\n",
       "      <td>4.252012e+09</td>\n",
       "      <td>1.328824e+09</td>\n",
       "      <td>11919.000000</td>\n",
       "      <td>12066.000000</td>\n",
       "      <td>2905.000000</td>\n",
       "    </tr>\n",
       "  </tbody>\n",
       "</table>\n",
       "</div>"
      ],
      "text/plain": [
       "          productid       imageid      len_text    len_lemmes   prdtypecode\n",
       "count  8.491600e+04  8.491600e+04  84916.000000  84916.000000  84916.000000\n",
       "mean   2.555468e+09  1.152691e+09    520.531537    517.319422   1773.219900\n",
       "std    1.588656e+09  1.751427e+08    664.802838    660.806625    788.179885\n",
       "min    1.839120e+05  6.728400e+04      4.000000      4.000000     10.000000\n",
       "25%    6.760519e+08  1.056269e+09     57.000000     56.000000   1281.000000\n",
       "50%    3.190506e+09  1.213354e+09    265.000000    263.000000   1920.000000\n",
       "75%    3.995599e+09  1.275646e+09    806.000000    803.000000   2522.000000\n",
       "max    4.252012e+09  1.328824e+09  11919.000000  12066.000000   2905.000000"
      ]
     },
     "metadata": {},
     "output_type": "display_data"
    },
    {
     "name": "stdout",
     "output_type": "stream",
     "text": [
      "<class 'pandas.core.frame.DataFrame'>\n",
      "Index: 84916 entries, 0 to 84915\n",
      "Data columns (total 7 columns):\n",
      " #   Column       Non-Null Count  Dtype \n",
      "---  ------       --------------  ----- \n",
      " 0   productid    84916 non-null  int64 \n",
      " 1   imageid      84916 non-null  int64 \n",
      " 2   text         84916 non-null  object\n",
      " 3   lemmes       84916 non-null  object\n",
      " 4   len_text     84916 non-null  int64 \n",
      " 5   len_lemmes   84916 non-null  int64 \n",
      " 6   prdtypecode  84916 non-null  int64 \n",
      "dtypes: int64(5), object(2)\n",
      "memory usage: 5.2+ MB\n"
     ]
    },
    {
     "data": {
      "text/plain": [
       "None"
      ]
     },
     "metadata": {},
     "output_type": "display_data"
    },
    {
     "name": "stdout",
     "output_type": "stream",
     "text": [
      "(496, 1)\n",
      "498\n"
     ]
    },
    {
     "data": {
      "text/plain": [
       "['a', 'à', 'â', 'abord', 'afin', 'ah', 'ai', 'aie', 'ainsi', 'allaient']"
      ]
     },
     "execution_count": 9,
     "metadata": {},
     "output_type": "execute_result"
    }
   ],
   "source": [
    "df = pd.read_csv(PATH_PROCESSED + \"X_train_preprocessed.csv\", index_col=0)\n",
    "# df = pd.read_csv(PATH_PROCESSED + \"X_train_detected_language.csv\", index_col=0)\n",
    "# df_target = pd.read_csv(PATH_RAW + \"y_train.csv\", index_col=0)\n",
    "# df[df_target.columns[0]] = df_target\n",
    "display(df.head())\n",
    "display(df.describe())\n",
    "display(df.info())\n",
    "\n",
    "stop_words_french = pd.read_json(PATH_EXTERNAL + \"stop_words_french.json\")\n",
    "print(stop_words_french.shape)\n",
    "stop_words = []\n",
    "stop_words.extend(stop_words_french[0].tolist())\n",
    "stop_words.extend([\"cm\", \"mm\"])\n",
    "print(len(stop_words))\n",
    "stop_words[:10]"
   ]
  },
  {
   "cell_type": "code",
   "execution_count": 10,
   "metadata": {},
   "outputs": [
    {
     "name": "stdout",
     "output_type": "stream",
     "text": [
      "median : 2671\n",
      "Index([2583, 1560, 1300, 2060, 2522, 1280, 2403, 2280, 1920, 1160, 1320, 10,\n",
      "       2705],\n",
      "      dtype='int64', name='prdtypecode')\n"
     ]
    }
   ],
   "source": [
    "value_counts = df[\"prdtypecode\"].value_counts()\n",
    "median = int(value_counts.median())\n",
    "print(\"median :\", median)\n",
    "value_counts_index = value_counts[value_counts > median].index\n",
    "print(value_counts_index)"
   ]
  },
  {
   "cell_type": "code",
   "execution_count": 11,
   "metadata": {},
   "outputs": [
    {
     "name": "stdout",
     "output_type": "stream",
     "text": [
      "(57552,)\n",
      "(57552,)\n"
     ]
    }
   ],
   "source": [
    "to_split = True\n",
    "\n",
    "index_row = []\n",
    "if to_split:\n",
    "    for i in value_counts.index:\n",
    "        if i in value_counts_index:\n",
    "            index_row.extend(\n",
    "                df.loc[df[\"prdtypecode\"] == i].sample(n=median, random_state=123).index\n",
    "            )\n",
    "        else:\n",
    "            index_row.extend(df.loc[df[\"prdtypecode\"] == i].index)\n",
    "else:\n",
    "    index_row.extend(df.index)\n",
    "\n",
    "data = df.loc[df.index.isin(index_row)][\"text\"]\n",
    "target = df.loc[df.index.isin(index_row)][\"prdtypecode\"].astype(\"int\")\n",
    "print(data.shape)\n",
    "print(target.shape)"
   ]
  },
  {
   "cell_type": "markdown",
   "metadata": {},
   "source": [
    "# TfidfVectorizer\n",
    "\n",
    "Voici les paramètres qui me semblent importants pour une classification de texte sur un corpus de 90 000 textes d'environ 500 caractères chacun:\n",
    "\n",
    "- Le paramètre <b>ngram_range</b>, qui permet de générer des n-grams de caractères ou de mots. Pour un texte court, les unigrams et bigrams seraient probablement suffisants. \n",
    "\n",
    "- Le paramètre <b>max_features</b>, qui limite le nombre de features conservées. Étant donné le grand nombre de textes, il serait sage de limiter le nombre de features pour éviter le surapprentissage. \n",
    "\n",
    "- Le paramètre <b>min_df</b>, qui ignore les mots apparaissant dans trop peu de documents. Ici, on peut ignorer les mots n'apparaissant que dans quelques dizaines de textes sur 90 000.\n",
    "\n",
    "- Le paramètre <b>max_df</b>, qui ignore les mots trop fréquents comme les mots vides. Avec des textes courts, de nombreux mots apparaitront dans une grande proportion des textes.\n",
    "\n",
    "- Le paramètre <b>stop_words</b>, pour retirer les mots vides de la langue du corpus.\n",
    "\n",
    "- Le paramètre <b>lowercase</b>, pour mettre tous les mots en minuscules et ainsi neutraliser les variations casse.\n",
    "\n",
    "Voilà les principaux paramètres à prendre en compte pour cette tâche de classification de texte sur un grand corpus de textes courts."
   ]
  },
  {
   "cell_type": "code",
   "execution_count": 12,
   "metadata": {},
   "outputs": [
    {
     "name": "stderr",
     "output_type": "stream",
     "text": [
      "/opt/anaconda3/lib/python3.10/site-packages/sklearn/feature_extraction/text.py:408: UserWarning: Your stop_words may be inconsistent with your preprocessing. Tokenizing the stop words generated tokens ['quelqu'] not in stop_words.\n",
      "  warnings.warn(\n"
     ]
    },
    {
     "name": "stdout",
     "output_type": "stream",
     "text": [
      "Total runtime: 00:00:01s\n",
      "X_train shape : (46041, 111531)\n",
      "X_test shape  : (11511, 111531)\n"
     ]
    }
   ],
   "source": [
    "tfidf_vect = TfidfVectorizer(\n",
    "    sublinear_tf=True,\n",
    "    max_df=0.5,\n",
    "    min_df=0.00001,\n",
    "    lowercase=True,\n",
    "    stop_words=stop_words,\n",
    "    max_features=350000,\n",
    ")\n",
    "start_time = time.time()\n",
    "\n",
    "data_vec = tfidf_vect.fit_transform(data)\n",
    "\n",
    "end_time = time.time()\n",
    "\n",
    "change_format_hour(end_time - start_time)\n",
    "\n",
    "# Split data into training and testing sets\n",
    "X_train_vec, X_test_vec, y_train, y_test = train_test_split(\n",
    "    data_vec, target, test_size=0.2, random_state=SEED\n",
    ")\n",
    "\n",
    "print(\"X_train shape :\", X_train_vec.shape)\n",
    "print(\"X_test shape  :\", X_test_vec.shape)"
   ]
  },
  {
   "cell_type": "markdown",
   "metadata": {},
   "source": [
    "# SMOTE"
   ]
  },
  {
   "cell_type": "code",
   "execution_count": 13,
   "metadata": {},
   "outputs": [
    {
     "data": {
      "image/png": "[encoded data removed]",
      "text/plain": [
       "<Figure size 1200x300 with 1 Axes>"
      ]
     },
     "metadata": {},
     "output_type": "display_data"
    },
    {
     "name": "stdout",
     "output_type": "stream",
     "text": [
      "Total runtime: 00:00:11s\n"
     ]
    },
    {
     "data": {
      "image/png": "[encoded data removed]",
      "text/plain": [
       "<Figure size 1200x300 with 1 Axes>"
      ]
     },
     "metadata": {},
     "output_type": "display_data"
    },
    {
     "name": "stdout",
     "output_type": "stream",
     "text": [
      "X_train shape : (58698, 111531)\n",
      "X_test shape  : (11511, 111531)\n"
     ]
    }
   ],
   "source": [
    "count = y_train.value_counts().to_frame()\n",
    "plt.figure(figsize=(12, 3))\n",
    "sns.barplot(count, x=count.index, y=\"count\")\n",
    "plt.xticks(rotation=90)\n",
    "plt.show()\n",
    "\n",
    "start_time = time.time()\n",
    "\n",
    "smote = SMOTE(random_state=SEED)\n",
    "X_train_vec, y_train = smote.fit_resample(X_train_vec, y_train)\n",
    "end_time = time.time()\n",
    "\n",
    "change_format_hour(end_time - start_time)\n",
    "\n",
    "count = y_train.value_counts().to_frame()\n",
    "plt.figure(figsize=(12, 3))\n",
    "sns.barplot(count, x=count.index, y=\"count\")\n",
    "plt.xticks(rotation=90)\n",
    "plt.show()\n",
    "print(\"X_train shape :\", X_train_vec.shape)\n",
    "print(\"X_test shape  :\", X_test_vec.shape)\n",
    "\n",
    "if X_train_vec.shape[0] * X_train_vec.shape[1] < 100000000:\n",
    "    X_train_dense = X_train_vec.toarray()\n",
    "    unique_rows, counts = np.unique(X_train_dense, axis=0, return_counts=True)\n",
    "    duplicate_rows = unique_rows[counts > 1]\n",
    "\n",
    "    if len(duplicate_rows) > 0:\n",
    "        print(f\"Found {len(duplicate_rows)} duplicate rows in the matrix.\")\n",
    "    else:\n",
    "        print(\"No duplicate rows found in the matrix.\")"
   ]
  },
  {
   "cell_type": "markdown",
   "metadata": {},
   "source": [
    "# Naive Bayes\n",
    "D'après la page, les modèles de classification naïve bayésienne sont souvent bien adaptés aux données de classification de texte, car ils nécessitent peu de données d'entraînement et sont très rapides par rapport à d'autres méthodes plus sophistiquées. \n",
    "\n",
    "En particulier, le modèle \"Multinomial Naive Bayes\" est l'un des deux modèles naïfs bayésiens classiques utilisés pour la classification de texte, car il suppose une distribution multinomiale des données, ce qui convient bien aux vecteurs de comptage de mots qui représentent généralement les données textuelles. \n",
    "\n",
    "Le modèle \"Complement Naive Bayes\" est également mentionné comme s'adaptant particulièrement bien aux ensembles de données déséquilibrés, en utilisant des statistiques du \"complément\" de chaque classe pour calculer les poids du modèle.\n",
    "\n",
    "Donc en résumé, les modèles de classification naïve bayésienne comme \"Multinomial Naive Bayes\" et \"Complement Naive Bayes\" sont souvent les mieux adaptés pour la classification de texte avec des entrées textuelles et une cible de classification.\n",
    "\n",
    "#### Peu importe le nombre de `max_features`, le résultat est instantané"
   ]
  },
  {
   "cell_type": "markdown",
   "metadata": {},
   "source": [
    "## MultinomialNB"
   ]
  },
  {
   "cell_type": "code",
   "execution_count": 14,
   "metadata": {},
   "outputs": [
    {
     "name": "stderr",
     "output_type": "stream",
     "text": [
      "WARNING:root:Malformed experiment '382622027855486375'. Detailed error Yaml file '../../mlruns/382622027855486375/meta.yaml' does not exist.\n",
      "Traceback (most recent call last):\n",
      "  File \"/opt/anaconda3/lib/python3.10/site-packages/mlflow/store/tracking/file_store.py\", line 302, in search_experiments\n",
      "    exp = self._get_experiment(exp_id, view_type)\n",
      "  File \"/opt/anaconda3/lib/python3.10/site-packages/mlflow/store/tracking/file_store.py\", line 395, in _get_experiment\n",
      "    meta = FileStore._read_yaml(experiment_dir, FileStore.META_DATA_FILE_NAME)\n",
      "  File \"/opt/anaconda3/lib/python3.10/site-packages/mlflow/store/tracking/file_store.py\", line 1320, in _read_yaml\n",
      "    return _read_helper(root, file_name, attempts_remaining=retries)\n",
      "  File \"/opt/anaconda3/lib/python3.10/site-packages/mlflow/store/tracking/file_store.py\", line 1313, in _read_helper\n",
      "    result = read_yaml(root, file_name)\n",
      "  File \"/opt/anaconda3/lib/python3.10/site-packages/mlflow/utils/file_utils.py\", line 310, in read_yaml\n",
      "    raise MissingConfigException(f\"Yaml file '{file_path}' does not exist.\")\n",
      "mlflow.exceptions.MissingConfigException: Yaml file '../../mlruns/382622027855486375/meta.yaml' does not exist.\n",
      "2024/05/02 18:52:13 INFO mlflow.tracking.fluent: Experiment with name 'Naive Bayes' does not exist. Creating a new experiment.\n",
      "WARNING:root:Malformed experiment '382622027855486375'. Detailed error Yaml file '../../mlruns/382622027855486375/meta.yaml' does not exist.\n",
      "Traceback (most recent call last):\n",
      "  File \"/opt/anaconda3/lib/python3.10/site-packages/mlflow/store/tracking/file_store.py\", line 302, in search_experiments\n",
      "    exp = self._get_experiment(exp_id, view_type)\n",
      "  File \"/opt/anaconda3/lib/python3.10/site-packages/mlflow/store/tracking/file_store.py\", line 395, in _get_experiment\n",
      "    meta = FileStore._read_yaml(experiment_dir, FileStore.META_DATA_FILE_NAME)\n",
      "  File \"/opt/anaconda3/lib/python3.10/site-packages/mlflow/store/tracking/file_store.py\", line 1320, in _read_yaml\n",
      "    return _read_helper(root, file_name, attempts_remaining=retries)\n",
      "  File \"/opt/anaconda3/lib/python3.10/site-packages/mlflow/store/tracking/file_store.py\", line 1313, in _read_helper\n",
      "    result = read_yaml(root, file_name)\n",
      "  File \"/opt/anaconda3/lib/python3.10/site-packages/mlflow/utils/file_utils.py\", line 310, in read_yaml\n",
      "    raise MissingConfigException(f\"Yaml file '{file_path}' does not exist.\")\n",
      "mlflow.exceptions.MissingConfigException: Yaml file '../../mlruns/382622027855486375/meta.yaml' does not exist.\n"
     ]
    }
   ],
   "source": [
    "mlflow.set_tracking_uri(\"../../mlruns\")\n",
    "mlflow.set_experiment(\"Naive Bayes\")\n",
    "mlflow.sklearn.autolog(log_datasets=False)"
   ]
  },
  {
   "cell_type": "code",
   "execution_count": 17,
   "metadata": {},
   "outputs": [
    {
     "name": "stdout",
     "output_type": "stream",
     "text": [
      "Run id: 3cc7c2da8a064176a5622aa978ca3d65\n"
     ]
    },
    {
     "name": "stderr",
     "output_type": "stream",
     "text": [
      "/opt/anaconda3/lib/python3.10/site-packages/sklearn/metrics/_classification.py:2916: UserWarning: The y_pred values do not sum to one. Starting from 1.5 thiswill result in an error.\n",
      "  warnings.warn(\n",
      "2024/05/02 20:09:29 INFO mlflow.sklearn.utils: Logging the 5 best runs, 17 runs will be omitted.\n"
     ]
    },
    {
     "name": "stdout",
     "output_type": "stream",
     "text": [
      "Total runtime: 00:00:11s\n",
      "{'alpha': 0.001, 'fit_prior': False}\n",
      "0.7965837622013067\n"
     ]
    }
   ],
   "source": [
    "# Define parameters to search over\n",
    "params = {\n",
    "    \"alpha\": [0.001, 0.1, 0.2, 0.3, 0.4, 0.5, 0.6, 0.7, 0.8, 0.9, 1.0],\n",
    "    \"fit_prior\": [True, False],\n",
    "}\n",
    "\n",
    "# Create a GridSearchCV object with the desired estimator and parameter grid\n",
    "grid_search_mnb = GridSearchCV(MultinomialNB(), params, scoring=\"f1_weighted\")\n",
    "\n",
    "start_time = time.time()\n",
    "\n",
    "with mlflow.start_run() as run:\n",
    "    print(\"Run id:\", run.info.run_id)\n",
    "    # Fit the model to the data\n",
    "    grid_search_mnb.fit(X_train_vec, y_train)\n",
    "\n",
    "end_time = time.time()\n",
    "change_format_hour(end_time - start_time)\n",
    "\n",
    "best_params_mnb = grid_search_mnb.best_params_\n",
    "\n",
    "print(best_params_mnb)\n",
    "print(grid_search_mnb.best_score_)"
   ]
  },
  {
   "cell_type": "code",
   "execution_count": 7,
   "metadata": {},
   "outputs": [
    {
     "name": "stdout",
     "output_type": "stream",
     "text": [
      "Total runtime: 00:00:00s\n",
      "Score train : 0.9058882300558199\n",
      "Score test : 0.7450264963947528\n",
      "F1 score train : 0.906\n",
      "F1 score test : 0.738\n"
     ]
    }
   ],
   "source": [
    "clf_mnb = MultinomialNB(\n",
    "    alpha=best_params_mnb[\"alpha\"], fit_prior=best_params_mnb[\"fit_prior\"]\n",
    ")\n",
    "\n",
    "start_time = time.time()\n",
    "\n",
    "clf_mnb.fit(X_train_vec, y_train)\n",
    "\n",
    "end_time = time.time()\n",
    "change_format_hour(end_time - start_time)\n",
    "\n",
    "print(\"Score train :\", clf_mnb.score(X_train_vec, y_train))\n",
    "print(\"Score test :\", clf_mnb.score(X_test_vec, y_test))\n",
    "\n",
    "y_pred = clf_mnb.predict(X_test_vec)\n",
    "\n",
    "f1_train = metrics.f1_score(y_train, clf_mnb.predict(X_train_vec), average=\"weighted\")\n",
    "f1_test = metrics.f1_score(y_test, y_pred, average=\"weighted\")\n",
    "\n",
    "print(\"F1 score train :\", f1_train.round(3))\n",
    "print(\"F1 score test :\", f1_test.round(3))"
   ]
  },
  {
   "cell_type": "markdown",
   "metadata": {},
   "source": [
    "## ComplementNB"
   ]
  },
  {
   "cell_type": "code",
   "execution_count": 8,
   "metadata": {},
   "outputs": [
    {
     "name": "stdout",
     "output_type": "stream",
     "text": [
      "Total runtime: 00:00:06s\n",
      "{'alpha': 0.9, 'fit_prior': True}\n",
      "0.7217915150998263\n"
     ]
    }
   ],
   "source": [
    "# Define parameters to search over\n",
    "params = {\n",
    "    \"alpha\": [0.001, 0.1, 0.2, 0.3, 0.4, 0.5, 0.6, 0.7, 0.8, 0.9, 1.0],\n",
    "    \"fit_prior\": [True, False],\n",
    "}\n",
    "\n",
    "# Create a GridSearchCV object with the desired estimator and parameter grid\n",
    "grid_search_cnb = GridSearchCV(ComplementNB(), params)\n",
    "\n",
    "start_time = time.time()\n",
    "\n",
    "# Fit the model to the data\n",
    "grid_search_cnb.fit(X_train_vec, y_train)\n",
    "\n",
    "end_time = time.time()\n",
    "change_format_hour(end_time - start_time)\n",
    "\n",
    "best_params_cnb = grid_search_cnb.best_params_\n",
    "\n",
    "print(best_params_cnb)\n",
    "print(grid_search_cnb.best_score_)"
   ]
  },
  {
   "cell_type": "code",
   "execution_count": 9,
   "metadata": {},
   "outputs": [
    {
     "name": "stdout",
     "output_type": "stream",
     "text": [
      "Total runtime: 00:00:00s\n",
      "Score train : 0.8611020612063162\n",
      "Score test : 0.7249587351229259\n",
      "F1 score train : 0.859\n",
      "F1 score test : 0.711\n"
     ]
    }
   ],
   "source": [
    "clf_cnb = ComplementNB(\n",
    "    alpha=best_params_cnb[\"alpha\"], fit_prior=best_params_cnb[\"fit_prior\"]\n",
    ")\n",
    "\n",
    "start_time = time.time()\n",
    "\n",
    "clf_cnb.fit(X_train_vec, y_train)\n",
    "\n",
    "end_time = time.time()\n",
    "change_format_hour(end_time - start_time)\n",
    "\n",
    "print(\"Score train :\", clf_cnb.score(X_train_vec, y_train))\n",
    "print(\"Score test :\", clf_cnb.score(X_test_vec, y_test))\n",
    "\n",
    "y_pred = clf_cnb.predict(X_test_vec)\n",
    "\n",
    "f1_train = metrics.f1_score(y_train, clf_cnb.predict(X_train_vec), average=\"weighted\")\n",
    "f1_test = metrics.f1_score(y_test, y_pred, average=\"weighted\")\n",
    "\n",
    "print(\"F1 score train :\", f1_train.round(3))\n",
    "print(\"F1 score test :\", f1_test.round(3))"
   ]
  },
  {
   "cell_type": "markdown",
   "metadata": {},
   "source": [
    "## GaussianNB"
   ]
  },
  {
   "cell_type": "code",
   "execution_count": 11,
   "metadata": {},
   "outputs": [
    {
     "ename": "",
     "evalue": "",
     "output_type": "error",
     "traceback": [
      "\u001b[1;31mThe Kernel crashed while executing code in the current cell or a previous cell. \n",
      "\u001b[1;31mPlease review the code in the cell(s) to identify a possible cause of the failure. \n",
      "\u001b[1;31mClick <a href='https://aka.ms/vscodeJupyterKernelCrash'>here</a> for more info. \n",
      "\u001b[1;31mView Jupyter <a href='command:jupyter.viewOutput'>log</a> for further details."
     ]
    }
   ],
   "source": [
    "clf_gnb = GaussianNB()\n",
    "\n",
    "start_time = time.time()\n",
    "\n",
    "X_train_vec_dense = X_train_vec.toarray()\n",
    "\n",
    "clf_gnb.fit(X_train_vec_dense, y_train)\n",
    "\n",
    "end_time = time.time()\n",
    "change_format_hour(end_time - start_time)\n",
    "\n",
    "print(\"Score train :\", clf_gnb.score(X_train_vec_dense, y_train))\n",
    "print(\"Score test :\", clf_gnb.score(X_test_vec, y_test))\n",
    "\n",
    "y_pred = clf_gnb.predict(X_test_vec)\n",
    "\n",
    "f1_train = metrics.f1_score(\n",
    "    y_train, clf_gnb.predict(X_train_vec_dense), average=\"weighted\"\n",
    ")\n",
    "f1_test = metrics.f1_score(y_test, y_pred, average=\"weighted\")\n",
    "\n",
    "print(\"F1 score train :\", f1_train.round(3))\n",
    "print(\"F1 score test :\", f1_test.round(3))"
   ]
  },
  {
   "cell_type": "markdown",
   "metadata": {},
   "source": [
    "# Best params\n",
    "## MultinomialNB\n",
    "### Params 1\n",
    "- F1 score (train) : 0.957\n",
    "- F1 score (test)  : 0.76\n",
    "\n",
    "avec SMOTE\n",
    "\n",
    "X_train shape : (220428, 130770)\n",
    "\n",
    "X_test shape  : (16984, 130770)\n",
    "\n",
    "{'alpha': 0.001, 'fit_prior': False}\n",
    "\n",
    "### Params 2\n",
    "- F1 score (train) : 0.899\n",
    "- F1 score (test)  : 0.772\n",
    "\n",
    "sans SMOTE\n",
    "\n",
    "X_train shape : (67932, 130770)\n",
    "\n",
    "X_test shape  : (16984, 130770)\n",
    "\n",
    "{'alpha': 0.1, 'fit_prior': False}\n",
    "\n",
    "## ComplementNB\n",
    "Sans SMOTE\n",
    "\n",
    "X_train shape : (67932, 130770)\n",
    "\n",
    "X_test shape  : (16984, 130770)\n",
    "\n",
    "{'alpha': 0.5, 'fit_prior': True}"
   ]
  },
  {
   "cell_type": "code",
   "execution_count": null,
   "metadata": {},
   "outputs": [],
   "source": []
  }
 ],
 "metadata": {
  "kernelspec": {
   "display_name": "datascience_py3_11_7",
   "language": "python",
   "name": "python3"
  },
  "language_info": {
   "codemirror_mode": {
    "name": "ipython",
    "version": 3
   },
   "file_extension": ".py",
   "mimetype": "text/x-python",
   "name": "python",
   "nbconvert_exporter": "python",
   "pygments_lexer": "ipython3",
   "version": "3.10.14"
  }
 },
 "nbformat": 4,
 "nbformat_minor": 2
}
