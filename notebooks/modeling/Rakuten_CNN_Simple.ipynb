{
 "cells": [
  {
   "cell_type": "code",
   "execution_count": 1,
   "id": "7bd6f4b6-f634-4934-b081-3e06afd55069",
   "metadata": {},
   "outputs": [
    {
     "name": "stdout",
     "output_type": "stream",
     "text": [
      "col_0        Fréquence\n",
      "prdtypecode           \n",
      "10                3116\n",
      "40                2508\n",
      "50                1681\n",
      "60                 832\n",
      "1140              2671\n",
      "1160              3953\n",
      "1180               764\n",
      "1280              4870\n",
      "1281              2070\n",
      "1300              5045\n",
      "1301               807\n",
      "1302              2491\n",
      "1320              3241\n",
      "1560              5073\n",
      "1920              4303\n",
      "1940               803\n",
      "2060              4993\n",
      "2220               824\n",
      "2280              4760\n",
      "2403              4774\n",
      "2462              1421\n",
      "2522              4989\n",
      "2582              2589\n",
      "2583             10209\n",
      "2585              2496\n",
      "2705              2761\n",
      "2905               872\n",
      "    productid     imageid  prdtypecode\n",
      "0  1858663209  1264480854         1301\n",
      "1  3728093436  1238372575         1301\n",
      "2   177637652  1274500877         1301\n",
      "3  1301755457  1283230880         1301\n",
      "4  3145383418  1193533798         1301\n",
      "Nombre total d'images sélectionnées : 20628\n",
      "[[1858663209, 1264480854, 1301], [3728093436, 1238372575, 1301], [177637652, 1274500877, 1301], [1301755457, 1283230880, 1301], [3145383418, 1193533798, 1301], [687644796, 1035624616, 1301], [533129, 1274792062, 1301], [2242045, 62350930, 1301], [190401903, 1250482316, 1301], [395490, 1274526735, 1301]]\n"
     ]
    }
   ],
   "source": [
    "import pandas as pd\n",
    "import numpy as np\n",
    "import matplotlib.pyplot as plt\n",
    "import os\n",
    "import cv2\n",
    "import time\n",
    "import random\n",
    "from sklearn.decomposition import PCA\n",
    "from PIL import Image\n",
    "from collections import Counter\n",
    "from sklearn.model_selection import train_test_split\n",
    "\n",
    "temps_debut = time.time()\n",
    "\n",
    "# Chemins des fichiers CSV et images\n",
    "chemin_x_train = r'C:\\Users\\pc\\Documents\\Data Scientist\\Rakuten_true\\Data_rakuten\\X_train_update.csv'\n",
    "chemin_y_train = r'C:\\Users\\pc\\Documents\\Data Scientist\\Rakuten_true\\Data_rakuten\\Y_train_CVw08PX.csv'\n",
    "chemin_images = r'C:\\Users\\pc\\Documents\\Data Scientist\\Rakuten_true\\Data_rakuten\\images\\image_train'\n",
    "\n",
    "x_train = pd.read_csv(chemin_x_train, index_col='Unnamed: 0')\n",
    "y_train = pd.read_csv(chemin_y_train, index_col='Unnamed: 0')\n",
    "\n",
    "# Equilibrer l'échantillon selon les classes de prdtypecode\n",
    "df_j1 = pd.merge(x_train, y_train, left_index=True, right_index=True)\n",
    "tableau_croise = pd.crosstab(index=df_j1['prdtypecode'], columns='Fréquence')\n",
    "print(tableau_croise)\n",
    "\n",
    "nombre_echantillons_par_classe = df_j1['prdtypecode'].value_counts().min()\n",
    "\n",
    "echantillon_equilibre = []\n",
    "for prdtypecode in df_j1['prdtypecode'].unique():\n",
    "    indices_prdtypecode = df_j1[df_j1['prdtypecode'] == prdtypecode].index.tolist()\n",
    "    indices_selectionnes = random.sample(indices_prdtypecode, nombre_echantillons_par_classe)\n",
    "    echantillon_equilibre.extend(df_j1.loc[indices_selectionnes, ['productid', 'imageid']].values.tolist())\n",
    "\n",
    "images_select = []\n",
    "\n",
    "for productid, imageid in echantillon_equilibre:\n",
    "    nom_fichier = f\"image_{imageid}_product_{productid}.jpg\"\n",
    "    chemin_image = os.path.join(chemin_images, nom_fichier)\n",
    "    if os.path.isfile(chemin_image):\n",
    "        images_select.append([productid, imageid, prdtypecode])\n",
    "\n",
    "df_images_info = pd.DataFrame(images_select, columns=['productid', 'imageid', 'prdtypecode'])\n",
    "\n",
    "print(df_images_info.head())  # Afficher les premières lignes du dataframe d'informations sur les images\n",
    "print(\"Nombre total d'images sélectionnées :\", len(df_images_info))\n",
    "print(images_select[:10])\n"
   ]
  },
  {
   "cell_type": "code",
   "execution_count": 2,
   "id": "fe321cc5-6e0c-4a9b-9d22-bc17125a7abb",
   "metadata": {},
   "outputs": [
    {
     "name": "stdout",
     "output_type": "stream",
     "text": [
      "Fréquences des largeurs :\n",
      " Counter({500: 20628})\n",
      "\n",
      "Fréquences des hauteurs :\n",
      " Counter({500: 20628})\n"
     ]
    }
   ],
   "source": [
    "# Enlever les images qui ne sont pas aux bonnes dimensions en entrée\n",
    "dimensions_images = []\n",
    "for image_name in images_select:\n",
    "    nom_fichier = f\"image_{imageid}_product_{productid}.jpg\"\n",
    "    chemin_im = os.path.join(chemin_images, nom_fichier)    \n",
    "    image = cv2.imread(chemin_im)\n",
    "    hauteur, largeur, _ = image.shape\n",
    "    dimensions_images.append((hauteur, largeur))\n",
    "\n",
    "largeurs, hauteurs = zip(*dimensions_images)\n",
    "frequence_largeurs = Counter(largeurs)\n",
    "frequence_hauteurs = Counter(hauteurs)\n",
    "print(\"Fréquences des largeurs :\\n\", frequence_largeurs)\n",
    "print(\"\\nFréquences des hauteurs :\\n\", frequence_hauteurs)\n"
   ]
  },
  {
   "cell_type": "code",
   "execution_count": 4,
   "id": "72809376-848e-4d81-9683-2d26f7132a32",
   "metadata": {
    "scrolled": true
   },
   "outputs": [],
   "source": [
    "temps_debut = time.time()\n",
    "\n",
    "# extraire les données des images \n",
    "largeur_im=100\n",
    "hauteur_im=100\n",
    "donnees=[]\n",
    "\n",
    "for productid, imageid, prdtypecode in images_select:\n",
    "    nom_fichier = f\"image_{imageid}_product_{productid}.jpg\"\n",
    "    chemin_image = os.path.join(chemin_images, nom_fichier)\n",
    "       \n",
    "    # Charger l'image en niveaux de gris\n",
    "    image = cv2.imread(chemin_image)\n",
    "    gray = cv2.cvtColor(image, cv2.COLOR_BGR2GRAY)\n",
    "    blurred = cv2.GaussianBlur(gray, (5, 5), 0)\n",
    "\n",
    "    kernelx = cv2.getDerivKernels(1, 0, 3)\n",
    "    kernely = cv2.getDerivKernels(0, 1, 3)\n",
    "    prewitt_x = cv2.filter2D(blurred, -1, kernelx[0] * kernelx[1].T)\n",
    "    prewitt_y = cv2.filter2D(blurred, -1, kernely[0] * kernely[1].T)\n",
    "    prewitt_cross = cv2.addWeighted(prewitt_x, 0.5, prewitt_y, 0.5, 0)\n",
    "    \n",
    "    contours, _ = cv2.findContours(prewitt_cross, cv2.RETR_TREE, cv2.CHAIN_APPROX_TC89_L1)\n",
    "\n",
    "    bounding_boxes = []\n",
    "    for contour in contours:\n",
    "        # Trouver les coordonnées de la boîte englobante du contour actuel\n",
    "        x, y, w, h = cv2.boundingRect(contour)\n",
    "        # Ajouter les coordonnées de la boîte englobante à la liste\n",
    "        bounding_boxes.append((x, y, w, h))\n",
    "\n",
    "    if bounding_boxes:\n",
    "        bounding_boxes_array = np.array(bounding_boxes)\n",
    "        min_x, min_y, min_w, min_h = np.min(bounding_boxes_array, axis=0)\n",
    "        max_x, max_y, max_w, max_h = np.max(bounding_boxes_array, axis=0)\n",
    "    else:\n",
    "        # Gérer le cas où bounding_boxes est vide\n",
    "        min_x, min_y, min_w, min_h = 0, 0, 0, 0\n",
    "        max_x, max_y, max_w, max_h = 500, 500, 500, 500\n",
    "\n",
    "    # Extraire la région de l'image couverte par la boîte englobante\n",
    "    cropped_image = image[min_y:min_y+max_h, min_x:min_x+max_w]\n",
    "    \n",
    "    # Redimensionner l'image sans conserver le ratio d'aspect\n",
    "    image_redim = cv2.resize(cropped_image, (largeur_im, hauteur_im))\n",
    "    image_redim_rgb = cv2.cvtColor(image_redim, cv2.COLOR_BGR2RGB)\n",
    "    \n",
    "    canal_r, canal_g, canal_b = cv2.split(image_redim_rgb)\n",
    "    rouge=canal_r.flatten().tolist()\n",
    "    vert=canal_g.flatten().tolist()\n",
    "    bleu=canal_b.flatten().tolist()\n",
    "\n",
    "    # Vérifier si le nombre de pixels correspond \n",
    "    nb_pixels = len(rouge) + len(vert) + len(bleu)\n",
    "    if nb_pixels != 3 * largeur_im * hauteur_im:\n",
    "        print(f\"L'image {nom_fichier} ne contient pas le bon nombre de pixels.\")\n",
    "    else:\n",
    "        # Ajouter les données à la liste\n",
    "        donnees.append({\n",
    "            'imageid': imageid,\n",
    "            'productid': productid,\n",
    "            'featr': rouge,\n",
    "            'featv': vert,\n",
    "            'featb': bleu\n",
    "        })\n",
    "\n"
   ]
  },
  {
   "cell_type": "code",
   "execution_count": 6,
   "id": "94d2f19a-f8af-440a-8c1a-42a1da6af543",
   "metadata": {},
   "outputs": [
    {
     "name": "stdout",
     "output_type": "stream",
     "text": [
      "Dimensions de X: (20628, 1, 10000, 3)\n",
      "Dimensions de y_encoded: (20628,)\n",
      "Temps d'exécution: 1010.0250341892242 secondes\n"
     ]
    }
   ],
   "source": [
    "import numpy as np\n",
    "from sklearn.preprocessing import LabelEncoder\n",
    "\n",
    "colonnes = ['imageid', 'productid', 'featr', 'featv', 'featb']\n",
    "df_images = pd.DataFrame(donnees, columns=colonnes)\n",
    "df_images['productid'] = df_images['productid'].astype(str)\n",
    "df_images['imageid'] = df_images['imageid'].astype(str)\n",
    "\n",
    "x_train['productid'] = x_train['productid'].astype(str)\n",
    "x_train['imageid'] = x_train['imageid'].astype(str)\n",
    "\n",
    "df_jointure1 = pd.merge(x_train, y_train, left_index=True, right_index=True)\n",
    "df_jointure2 = pd.merge(df_images, df_jointure1, on=['productid', 'imageid'])\n",
    "\n",
    "# Convertir les listes de pixels en tableaux numpy\n",
    "df_jointure2['featr'] = df_jointure2['featr'].apply(lambda x: np.array(x))\n",
    "df_jointure2['featv'] = df_jointure2['featv'].apply(lambda x: np.array(x))\n",
    "df_jointure2['featb'] = df_jointure2['featb'].apply(lambda x: np.array(x))\n",
    "\n",
    "# Fusionner les tableaux numpy de chaque canal de couleur pour former une seule image par échantillon\n",
    "df_jointure2['image'] = df_jointure2.apply(lambda row: np.dstack((row['featr'], row['featv'], row['featb'])) / 255.0, axis=1)\n",
    "\n",
    "# Séparer les images et les labels\n",
    "X = np.stack(df_jointure2['image'].values)  # Tableau numpy contenant toutes les images\n",
    "y = df_jointure2['prdtypecode'].values  # Tableau numpy contenant les labels\n",
    "\n",
    "# Encodage des labels si nécessaire (par exemple, LabelEncoder si vous avez des classes catégorielles)\n",
    "label_encoder = LabelEncoder()\n",
    "y_encoded = label_encoder.fit_transform(y)\n",
    "\n",
    "# Affichage des dimensions pour vérification\n",
    "print(\"Dimensions de X:\", X.shape)\n",
    "print(\"Dimensions de y_encoded:\", y_encoded.shape)\n",
    "\n",
    "# Arrêter le compteur de temps\n",
    "temps_fin = time.time()\n",
    "temps_execution = temps_fin - temps_debut\n",
    "print(\"Temps d'exécution:\", temps_execution, \"secondes\")"
   ]
  },
  {
   "cell_type": "code",
   "execution_count": 10,
   "id": "18398c9c-290b-4f3b-a744-407741be54e6",
   "metadata": {},
   "outputs": [
    {
     "name": "stdout",
     "output_type": "stream",
     "text": [
      "Dimensions de X: (20628, 100, 100, 3)\n"
     ]
    },
    {
     "data": {
      "image/png": "[encoded data removed]",
      "text/plain": [
       "<Figure size 1000x600 with 1 Axes>"
      ]
     },
     "metadata": {},
     "output_type": "display_data"
    }
   ],
   "source": [
    "X = np.reshape(X, (20628, 100, 100, 3))\n",
    "print(\"Dimensions de X:\", X.shape)\n",
    "\n",
    "unique_classes, class_counts = np.unique(y_encoded, return_counts=True)\n",
    "plt.figure(figsize=(10, 6))\n",
    "plt.bar(unique_classes, class_counts)\n",
    "plt.xlabel('Classe')\n",
    "plt.ylabel('Nombre d\\'occurrences')\n",
    "plt.title('Distribution des classes')\n",
    "plt.show()"
   ]
  },
  {
   "cell_type": "code",
   "execution_count": 12,
   "id": "e9a4285c-b87a-436e-bd36-adafc1ac8963",
   "metadata": {},
   "outputs": [
    {
     "name": "stderr",
     "output_type": "stream",
     "text": [
      "C:\\Users\\pc\\anaconda3\\Lib\\site-packages\\keras\\src\\layers\\convolutional\\base_conv.py:99: UserWarning: Do not pass an `input_shape`/`input_dim` argument to a layer. When using Sequential models, prefer using an `Input(shape)` object as the first layer in the model instead.\n",
      "  super().__init__(\n"
     ]
    },
    {
     "data": {
      "text/html": [
       "<pre style=\"white-space:pre;overflow-x:auto;line-height:normal;font-family:Menlo,'DejaVu Sans Mono',consolas,'Courier New',monospace\"><span style=\"font-weight: bold\">Model: \"sequential\"</span>\n",
       "</pre>\n"
      ],
      "text/plain": [
       "\u001b[1mModel: \"sequential\"\u001b[0m\n"
      ]
     },
     "metadata": {},
     "output_type": "display_data"
    },
    {
     "data": {
      "text/html": [
       "<pre style=\"white-space:pre;overflow-x:auto;line-height:normal;font-family:Menlo,'DejaVu Sans Mono',consolas,'Courier New',monospace\">┏━━━━━━━━━━━━━━━━━━━━━━━━━━━━━━━━━┳━━━━━━━━━━━━━━━━━━━━━━━━┳━━━━━━━━━━━━━━━┓\n",
       "┃<span style=\"font-weight: bold\"> Layer (type)                    </span>┃<span style=\"font-weight: bold\"> Output Shape           </span>┃<span style=\"font-weight: bold\">       Param # </span>┃\n",
       "┡━━━━━━━━━━━━━━━━━━━━━━━━━━━━━━━━━╇━━━━━━━━━━━━━━━━━━━━━━━━╇━━━━━━━━━━━━━━━┩\n",
       "│ conv2d (<span style=\"color: #0087ff; text-decoration-color: #0087ff\">Conv2D</span>)                 │ (<span style=\"color: #00d7ff; text-decoration-color: #00d7ff\">None</span>, <span style=\"color: #00af00; text-decoration-color: #00af00\">98</span>, <span style=\"color: #00af00; text-decoration-color: #00af00\">98</span>, <span style=\"color: #00af00; text-decoration-color: #00af00\">32</span>)     │           <span style=\"color: #00af00; text-decoration-color: #00af00\">896</span> │\n",
       "├─────────────────────────────────┼────────────────────────┼───────────────┤\n",
       "│ max_pooling2d (<span style=\"color: #0087ff; text-decoration-color: #0087ff\">MaxPooling2D</span>)    │ (<span style=\"color: #00d7ff; text-decoration-color: #00d7ff\">None</span>, <span style=\"color: #00af00; text-decoration-color: #00af00\">49</span>, <span style=\"color: #00af00; text-decoration-color: #00af00\">49</span>, <span style=\"color: #00af00; text-decoration-color: #00af00\">32</span>)     │             <span style=\"color: #00af00; text-decoration-color: #00af00\">0</span> │\n",
       "├─────────────────────────────────┼────────────────────────┼───────────────┤\n",
       "│ conv2d_1 (<span style=\"color: #0087ff; text-decoration-color: #0087ff\">Conv2D</span>)               │ (<span style=\"color: #00d7ff; text-decoration-color: #00d7ff\">None</span>, <span style=\"color: #00af00; text-decoration-color: #00af00\">47</span>, <span style=\"color: #00af00; text-decoration-color: #00af00\">47</span>, <span style=\"color: #00af00; text-decoration-color: #00af00\">64</span>)     │        <span style=\"color: #00af00; text-decoration-color: #00af00\">18,496</span> │\n",
       "├─────────────────────────────────┼────────────────────────┼───────────────┤\n",
       "│ max_pooling2d_1 (<span style=\"color: #0087ff; text-decoration-color: #0087ff\">MaxPooling2D</span>)  │ (<span style=\"color: #00d7ff; text-decoration-color: #00d7ff\">None</span>, <span style=\"color: #00af00; text-decoration-color: #00af00\">23</span>, <span style=\"color: #00af00; text-decoration-color: #00af00\">23</span>, <span style=\"color: #00af00; text-decoration-color: #00af00\">64</span>)     │             <span style=\"color: #00af00; text-decoration-color: #00af00\">0</span> │\n",
       "├─────────────────────────────────┼────────────────────────┼───────────────┤\n",
       "│ conv2d_2 (<span style=\"color: #0087ff; text-decoration-color: #0087ff\">Conv2D</span>)               │ (<span style=\"color: #00d7ff; text-decoration-color: #00d7ff\">None</span>, <span style=\"color: #00af00; text-decoration-color: #00af00\">21</span>, <span style=\"color: #00af00; text-decoration-color: #00af00\">21</span>, <span style=\"color: #00af00; text-decoration-color: #00af00\">64</span>)     │        <span style=\"color: #00af00; text-decoration-color: #00af00\">36,928</span> │\n",
       "├─────────────────────────────────┼────────────────────────┼───────────────┤\n",
       "│ max_pooling2d_2 (<span style=\"color: #0087ff; text-decoration-color: #0087ff\">MaxPooling2D</span>)  │ (<span style=\"color: #00d7ff; text-decoration-color: #00d7ff\">None</span>, <span style=\"color: #00af00; text-decoration-color: #00af00\">10</span>, <span style=\"color: #00af00; text-decoration-color: #00af00\">10</span>, <span style=\"color: #00af00; text-decoration-color: #00af00\">64</span>)     │             <span style=\"color: #00af00; text-decoration-color: #00af00\">0</span> │\n",
       "├─────────────────────────────────┼────────────────────────┼───────────────┤\n",
       "│ flatten (<span style=\"color: #0087ff; text-decoration-color: #0087ff\">Flatten</span>)               │ (<span style=\"color: #00d7ff; text-decoration-color: #00d7ff\">None</span>, <span style=\"color: #00af00; text-decoration-color: #00af00\">6400</span>)           │             <span style=\"color: #00af00; text-decoration-color: #00af00\">0</span> │\n",
       "├─────────────────────────────────┼────────────────────────┼───────────────┤\n",
       "│ dense (<span style=\"color: #0087ff; text-decoration-color: #0087ff\">Dense</span>)                   │ (<span style=\"color: #00d7ff; text-decoration-color: #00d7ff\">None</span>, <span style=\"color: #00af00; text-decoration-color: #00af00\">64</span>)             │       <span style=\"color: #00af00; text-decoration-color: #00af00\">409,664</span> │\n",
       "├─────────────────────────────────┼────────────────────────┼───────────────┤\n",
       "│ dense_1 (<span style=\"color: #0087ff; text-decoration-color: #0087ff\">Dense</span>)                 │ (<span style=\"color: #00d7ff; text-decoration-color: #00d7ff\">None</span>, <span style=\"color: #00af00; text-decoration-color: #00af00\">27</span>)             │         <span style=\"color: #00af00; text-decoration-color: #00af00\">1,755</span> │\n",
       "└─────────────────────────────────┴────────────────────────┴───────────────┘\n",
       "</pre>\n"
      ],
      "text/plain": [
       "┏━━━━━━━━━━━━━━━━━━━━━━━━━━━━━━━━━┳━━━━━━━━━━━━━━━━━━━━━━━━┳━━━━━━━━━━━━━━━┓\n",
       "┃\u001b[1m \u001b[0m\u001b[1mLayer (type)                   \u001b[0m\u001b[1m \u001b[0m┃\u001b[1m \u001b[0m\u001b[1mOutput Shape          \u001b[0m\u001b[1m \u001b[0m┃\u001b[1m \u001b[0m\u001b[1m      Param #\u001b[0m\u001b[1m \u001b[0m┃\n",
       "┡━━━━━━━━━━━━━━━━━━━━━━━━━━━━━━━━━╇━━━━━━━━━━━━━━━━━━━━━━━━╇━━━━━━━━━━━━━━━┩\n",
       "│ conv2d (\u001b[38;5;33mConv2D\u001b[0m)                 │ (\u001b[38;5;45mNone\u001b[0m, \u001b[38;5;34m98\u001b[0m, \u001b[38;5;34m98\u001b[0m, \u001b[38;5;34m32\u001b[0m)     │           \u001b[38;5;34m896\u001b[0m │\n",
       "├─────────────────────────────────┼────────────────────────┼───────────────┤\n",
       "│ max_pooling2d (\u001b[38;5;33mMaxPooling2D\u001b[0m)    │ (\u001b[38;5;45mNone\u001b[0m, \u001b[38;5;34m49\u001b[0m, \u001b[38;5;34m49\u001b[0m, \u001b[38;5;34m32\u001b[0m)     │             \u001b[38;5;34m0\u001b[0m │\n",
       "├─────────────────────────────────┼────────────────────────┼───────────────┤\n",
       "│ conv2d_1 (\u001b[38;5;33mConv2D\u001b[0m)               │ (\u001b[38;5;45mNone\u001b[0m, \u001b[38;5;34m47\u001b[0m, \u001b[38;5;34m47\u001b[0m, \u001b[38;5;34m64\u001b[0m)     │        \u001b[38;5;34m18,496\u001b[0m │\n",
       "├─────────────────────────────────┼────────────────────────┼───────────────┤\n",
       "│ max_pooling2d_1 (\u001b[38;5;33mMaxPooling2D\u001b[0m)  │ (\u001b[38;5;45mNone\u001b[0m, \u001b[38;5;34m23\u001b[0m, \u001b[38;5;34m23\u001b[0m, \u001b[38;5;34m64\u001b[0m)     │             \u001b[38;5;34m0\u001b[0m │\n",
       "├─────────────────────────────────┼────────────────────────┼───────────────┤\n",
       "│ conv2d_2 (\u001b[38;5;33mConv2D\u001b[0m)               │ (\u001b[38;5;45mNone\u001b[0m, \u001b[38;5;34m21\u001b[0m, \u001b[38;5;34m21\u001b[0m, \u001b[38;5;34m64\u001b[0m)     │        \u001b[38;5;34m36,928\u001b[0m │\n",
       "├─────────────────────────────────┼────────────────────────┼───────────────┤\n",
       "│ max_pooling2d_2 (\u001b[38;5;33mMaxPooling2D\u001b[0m)  │ (\u001b[38;5;45mNone\u001b[0m, \u001b[38;5;34m10\u001b[0m, \u001b[38;5;34m10\u001b[0m, \u001b[38;5;34m64\u001b[0m)     │             \u001b[38;5;34m0\u001b[0m │\n",
       "├─────────────────────────────────┼────────────────────────┼───────────────┤\n",
       "│ flatten (\u001b[38;5;33mFlatten\u001b[0m)               │ (\u001b[38;5;45mNone\u001b[0m, \u001b[38;5;34m6400\u001b[0m)           │             \u001b[38;5;34m0\u001b[0m │\n",
       "├─────────────────────────────────┼────────────────────────┼───────────────┤\n",
       "│ dense (\u001b[38;5;33mDense\u001b[0m)                   │ (\u001b[38;5;45mNone\u001b[0m, \u001b[38;5;34m64\u001b[0m)             │       \u001b[38;5;34m409,664\u001b[0m │\n",
       "├─────────────────────────────────┼────────────────────────┼───────────────┤\n",
       "│ dense_1 (\u001b[38;5;33mDense\u001b[0m)                 │ (\u001b[38;5;45mNone\u001b[0m, \u001b[38;5;34m27\u001b[0m)             │         \u001b[38;5;34m1,755\u001b[0m │\n",
       "└─────────────────────────────────┴────────────────────────┴───────────────┘\n"
      ]
     },
     "metadata": {},
     "output_type": "display_data"
    },
    {
     "data": {
      "text/html": [
       "<pre style=\"white-space:pre;overflow-x:auto;line-height:normal;font-family:Menlo,'DejaVu Sans Mono',consolas,'Courier New',monospace\"><span style=\"font-weight: bold\"> Total params: </span><span style=\"color: #00af00; text-decoration-color: #00af00\">467,739</span> (1.78 MB)\n",
       "</pre>\n"
      ],
      "text/plain": [
       "\u001b[1m Total params: \u001b[0m\u001b[38;5;34m467,739\u001b[0m (1.78 MB)\n"
      ]
     },
     "metadata": {},
     "output_type": "display_data"
    },
    {
     "data": {
      "text/html": [
       "<pre style=\"white-space:pre;overflow-x:auto;line-height:normal;font-family:Menlo,'DejaVu Sans Mono',consolas,'Courier New',monospace\"><span style=\"font-weight: bold\"> Trainable params: </span><span style=\"color: #00af00; text-decoration-color: #00af00\">467,739</span> (1.78 MB)\n",
       "</pre>\n"
      ],
      "text/plain": [
       "\u001b[1m Trainable params: \u001b[0m\u001b[38;5;34m467,739\u001b[0m (1.78 MB)\n"
      ]
     },
     "metadata": {},
     "output_type": "display_data"
    },
    {
     "data": {
      "text/html": [
       "<pre style=\"white-space:pre;overflow-x:auto;line-height:normal;font-family:Menlo,'DejaVu Sans Mono',consolas,'Courier New',monospace\"><span style=\"font-weight: bold\"> Non-trainable params: </span><span style=\"color: #00af00; text-decoration-color: #00af00\">0</span> (0.00 B)\n",
       "</pre>\n"
      ],
      "text/plain": [
       "\u001b[1m Non-trainable params: \u001b[0m\u001b[38;5;34m0\u001b[0m (0.00 B)\n"
      ]
     },
     "metadata": {},
     "output_type": "display_data"
    }
   ],
   "source": [
    "from tensorflow.keras.models import Sequential\n",
    "from tensorflow.keras.layers import Conv2D, MaxPooling2D, Flatten, Dense\n",
    "\n",
    "# Définition des dimensions de l'image\n",
    "image_height = 100\n",
    "image_width = 100\n",
    "num_channels = 3  # Si les images sont en couleur, sinon 1 pour les images en niveaux de gris\n",
    "num_classes = 27\n",
    "\n",
    "model = Sequential([\n",
    "    Conv2D(32, (3, 3), activation='relu', input_shape=(image_height, image_width, num_channels)),\n",
    "    MaxPooling2D((2, 2)),\n",
    "    Conv2D(64, (3, 3), activation='relu'),\n",
    "    MaxPooling2D((2, 2)),\n",
    "    Conv2D(64, (3, 3), activation='relu'),\n",
    "    MaxPooling2D((2, 2)),\n",
    "    Flatten(),\n",
    "    Dense(64, activation='relu'),\n",
    "    Dense(num_classes, activation='softmax')\n",
    "])\n",
    "\n",
    "model.summary()"
   ]
  },
  {
   "cell_type": "code",
   "execution_count": 14,
   "id": "0edbbaf6-e47f-4f2f-9034-7469079ae691",
   "metadata": {},
   "outputs": [
    {
     "name": "stdout",
     "output_type": "stream",
     "text": [
      "Dimensions de X_train: (16502, 100, 100, 3)\n",
      "Dimensions de X_test: (4126, 100, 100, 3)\n",
      "Dimensions de y_train: (16502,)\n",
      "Dimensions de y_test: (4126,)\n"
     ]
    }
   ],
   "source": [
    "from sklearn.model_selection import train_test_split\n",
    "\n",
    "X_train, X_test, y_train, y_test = train_test_split(X, y_encoded, test_size=0.2, random_state=23)\n",
    "\n",
    "print(\"Dimensions de X_train:\", X_train.shape)\n",
    "print(\"Dimensions de X_test:\", X_test.shape)\n",
    "print(\"Dimensions de y_train:\", y_train.shape)\n",
    "print(\"Dimensions de y_test:\", y_test.shape)"
   ]
  },
  {
   "cell_type": "code",
   "execution_count": 16,
   "id": "e86cf850-e541-4ac6-bdc6-a9a7125ee9d9",
   "metadata": {},
   "outputs": [
    {
     "name": "stdout",
     "output_type": "stream",
     "text": [
      "Epoch 1/10\n",
      "\u001b[1m516/516\u001b[0m \u001b[32m━━━━━━━━━━━━━━━━━━━━\u001b[0m\u001b[37m\u001b[0m \u001b[1m103s\u001b[0m 192ms/step - accuracy: 0.3039 - loss: 2.4341 - val_accuracy: 0.2700 - val_loss: 2.5591\n",
      "Epoch 2/10\n",
      "\u001b[1m516/516\u001b[0m \u001b[32m━━━━━━━━━━━━━━━━━━━━\u001b[0m\u001b[37m\u001b[0m \u001b[1m92s\u001b[0m 179ms/step - accuracy: 0.3504 - loss: 2.2316 - val_accuracy: 0.2935 - val_loss: 2.5675\n",
      "Epoch 3/10\n",
      "\u001b[1m516/516\u001b[0m \u001b[32m━━━━━━━━━━━━━━━━━━━━\u001b[0m\u001b[37m\u001b[0m \u001b[1m91s\u001b[0m 176ms/step - accuracy: 0.4086 - loss: 1.9966 - val_accuracy: 0.2937 - val_loss: 2.5434\n",
      "Epoch 4/10\n",
      "\u001b[1m516/516\u001b[0m \u001b[32m━━━━━━━━━━━━━━━━━━━━\u001b[0m\u001b[37m\u001b[0m \u001b[1m90s\u001b[0m 174ms/step - accuracy: 0.4769 - loss: 1.7549 - val_accuracy: 0.2896 - val_loss: 2.6606\n",
      "Epoch 5/10\n",
      "\u001b[1m516/516\u001b[0m \u001b[32m━━━━━━━━━━━━━━━━━━━━\u001b[0m\u001b[37m\u001b[0m \u001b[1m92s\u001b[0m 178ms/step - accuracy: 0.5540 - loss: 1.4907 - val_accuracy: 0.2794 - val_loss: 2.9627\n",
      "Epoch 6/10\n",
      "\u001b[1m516/516\u001b[0m \u001b[32m━━━━━━━━━━━━━━━━━━━━\u001b[0m\u001b[37m\u001b[0m \u001b[1m89s\u001b[0m 173ms/step - accuracy: 0.6312 - loss: 1.2325 - val_accuracy: 0.2727 - val_loss: 3.2439\n",
      "Epoch 7/10\n",
      "\u001b[1m516/516\u001b[0m \u001b[32m━━━━━━━━━━━━━━━━━━━━\u001b[0m\u001b[37m\u001b[0m \u001b[1m90s\u001b[0m 174ms/step - accuracy: 0.7020 - loss: 1.0051 - val_accuracy: 0.2632 - val_loss: 3.6157\n",
      "Epoch 8/10\n",
      "\u001b[1m516/516\u001b[0m \u001b[32m━━━━━━━━━━━━━━━━━━━━\u001b[0m\u001b[37m\u001b[0m \u001b[1m89s\u001b[0m 173ms/step - accuracy: 0.7528 - loss: 0.8240 - val_accuracy: 0.2613 - val_loss: 4.2467\n",
      "Epoch 9/10\n",
      "\u001b[1m516/516\u001b[0m \u001b[32m━━━━━━━━━━━━━━━━━━━━\u001b[0m\u001b[37m\u001b[0m \u001b[1m90s\u001b[0m 174ms/step - accuracy: 0.8015 - loss: 0.6440 - val_accuracy: 0.2656 - val_loss: 4.5502\n",
      "Epoch 10/10\n",
      "\u001b[1m516/516\u001b[0m \u001b[32m━━━━━━━━━━━━━━━━━━━━\u001b[0m\u001b[37m\u001b[0m \u001b[1m91s\u001b[0m 176ms/step - accuracy: 0.8375 - loss: 0.5251 - val_accuracy: 0.2639 - val_loss: 5.3682\n",
      "\u001b[1m129/129\u001b[0m \u001b[32m━━━━━━━━━━━━━━━━━━━━\u001b[0m\u001b[37m\u001b[0m \u001b[1m8s\u001b[0m 60ms/step - accuracy: 0.2612 - loss: 5.3421\n",
      "Loss: 5.368152618408203\n",
      "Accuracy: 0.26393601298332214\n"
     ]
    }
   ],
   "source": [
    "model.compile(optimizer='adam', loss='sparse_categorical_crossentropy', metrics=['accuracy'])\n",
    "history = model.fit(X_train, y_train, epochs=10, validation_data=(X_test, y_test), batch_size=32)\n",
    "loss, accuracy = model.evaluate(X_test, y_test)\n",
    "print(\"Loss:\", loss)\n",
    "print(\"Accuracy:\", accuracy)"
   ]
  },
  {
   "cell_type": "code",
   "execution_count": 17,
   "id": "16591815-a0c1-449c-b1b6-266777eec9a4",
   "metadata": {},
   "outputs": [
    {
     "name": "stdout",
     "output_type": "stream",
     "text": [
      "Epoch 1/5\n",
      "\u001b[1m516/516\u001b[0m \u001b[32m━━━━━━━━━━━━━━━━━━━━\u001b[0m\u001b[37m\u001b[0m \u001b[1m94s\u001b[0m 177ms/step - accuracy: 0.8521 - loss: 0.4703 - val_accuracy: 0.2693 - val_loss: 5.9103\n",
      "Epoch 2/5\n",
      "\u001b[1m516/516\u001b[0m \u001b[32m━━━━━━━━━━━━━━━━━━━━\u001b[0m\u001b[37m\u001b[0m \u001b[1m91s\u001b[0m 177ms/step - accuracy: 0.8921 - loss: 0.3555 - val_accuracy: 0.2615 - val_loss: 6.5541\n",
      "Epoch 3/5\n",
      "\u001b[1m516/516\u001b[0m \u001b[32m━━━━━━━━━━━━━━━━━━━━\u001b[0m\u001b[37m\u001b[0m \u001b[1m91s\u001b[0m 176ms/step - accuracy: 0.9047 - loss: 0.3082 - val_accuracy: 0.2610 - val_loss: 6.9058\n",
      "Epoch 4/5\n",
      "\u001b[1m516/516\u001b[0m \u001b[32m━━━━━━━━━━━━━━━━━━━━\u001b[0m\u001b[37m\u001b[0m \u001b[1m94s\u001b[0m 181ms/step - accuracy: 0.9103 - loss: 0.2950 - val_accuracy: 0.2605 - val_loss: 7.1425\n",
      "Epoch 5/5\n",
      "\u001b[1m516/516\u001b[0m \u001b[32m━━━━━━━━━━━━━━━━━━━━\u001b[0m\u001b[37m\u001b[0m \u001b[1m94s\u001b[0m 181ms/step - accuracy: 0.9175 - loss: 0.2661 - val_accuracy: 0.2535 - val_loss: 7.2980\n",
      "\u001b[1m129/129\u001b[0m \u001b[32m━━━━━━━━━━━━━━━━━━━━\u001b[0m\u001b[37m\u001b[0m \u001b[1m7s\u001b[0m 55ms/step - accuracy: 0.2539 - loss: 7.2867\n",
      "Loss: 7.297962188720703\n",
      "Accuracy: 0.25351428985595703\n"
     ]
    }
   ],
   "source": [
    "from tensorflow.keras.optimizers import Adam\n",
    "\n",
    "optimizer = Adam(learning_rate=0.001)  \n",
    "model.compile(optimizer=optimizer, loss='sparse_categorical_crossentropy', metrics=['accuracy'])\n",
    "history = model.fit(X_train, y_train, epochs=5, validation_data=(X_test, y_test), batch_size=32)\n",
    "loss, accuracy = model.evaluate(X_test, y_test)\n",
    "print(\"Loss:\", loss)\n",
    "print(\"Accuracy:\", accuracy)"
   ]
  },
  {
   "cell_type": "code",
   "execution_count": null,
   "id": "735f6c6a-93fc-4f4e-9371-fc77fe35c046",
   "metadata": {},
   "outputs": [],
   "source": []
  }
 ],
 "metadata": {
  "kernelspec": {
   "display_name": "Python 3 (ipykernel)",
   "language": "python",
   "name": "python3"
  },
  "language_info": {
   "codemirror_mode": {
    "name": "ipython",
    "version": 3
   },
   "file_extension": ".py",
   "mimetype": "text/x-python",
   "name": "python",
   "nbconvert_exporter": "python",
   "pygments_lexer": "ipython3",
   "version": "3.11.5"
  }
 },
 "nbformat": 4,
 "nbformat_minor": 5
}
