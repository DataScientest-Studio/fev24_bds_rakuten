{
 "cells": [
  {
   "cell_type": "code",
   "execution_count": 35,
   "metadata": {},
   "outputs": [],
   "source": [
    "import pandas as pd\n",
    "import tensorflow as tf\n",
    "from sklearn.model_selection import train_test_split\n",
    "from tensorflow.keras.preprocessing.image import ImageDataGenerator\n",
    "from tensorflow.keras.layers import Dense, GlobalAveragePooling2D, Dropout, Input\n",
    "from tensorflow.keras.models import Model\n",
    "\n"
   ]
  },
  {
   "cell_type": "code",
   "execution_count": 36,
   "metadata": {},
   "outputs": [],
   "source": [
    "# Chemins vers les images et les données CSV\n",
    "images_path = \"C:/Users/user/OneDrive/DATASIENCETEST/PROJET/Data/Update/images/image_train\"\n",
    "X_csv_path = \"C:/Users/user/OneDrive/DATASIENCETEST/PROJET/Data/Update/X_train_update.csv\"\n",
    "y_csv_path = \"C:/Users/user/OneDrive/DATASIENCETEST/PROJET/Data/Update/Y_train_CVw08PX.csv\"\n",
    "\n",
    "# Chargement des données\n",
    "X_df = pd.read_csv(X_csv_path)\n",
    "y_df = pd.read_csv(y_csv_path)\n",
    "\n",
    "# Nettoyage de y_df pour enlever toute colonne superflue (comme 'Unnamed: 0')\n",
    "y_df.drop(columns=['Unnamed: 0'], inplace=True)\n",
    "X_df.drop(columns=['Unnamed: 0'], inplace=True)\n",
    "\n",
    "# Assurez-vous que les colonnes 'imageid' et 'productid' sont correctes pour correspondre aux noms de fichiers\n",
    "X_df['image_name'] = X_df.apply(lambda row: f\"image_{row['imageid']}_product_{row['productid']}.jpg\", axis=1)\n",
    "X_df['image_path'] = images_path + '/' + X_df['image_name']\n",
    "\n",
    "# Concaténation de X_df avec y_df sur l'index\n",
    "dataset = pd.concat([X_df, y_df], axis=1)\n",
    "\n",
    "\n"
   ]
  },
  {
   "cell_type": "code",
   "execution_count": 37,
   "metadata": {},
   "outputs": [
    {
     "name": "stdout",
     "output_type": "stream",
     "text": [
      "   prdtypecode\n",
      "0           10\n",
      "1         2280\n",
      "2           50\n",
      "3         1280\n",
      "4         2705\n",
      "Index(['prdtypecode'], dtype='object')\n",
      "                                         designation  \\\n",
      "0  Olivia: Personalisiertes Notizbuch / 150 Seite...   \n",
      "1  Journal Des Arts (Le) N° 133 Du 28/09/2001 - L...   \n",
      "2  Grand Stylet Ergonomique Bleu Gamepad Nintendo...   \n",
      "3  Peluche Donald - Europe - Disneyland 2000 (Mar...   \n",
      "4                               La Guerre Des Tuques   \n",
      "\n",
      "                                         description   productid     imageid  \\\n",
      "0                                                NaN  3804725264  1263597046   \n",
      "1                                                NaN   436067568  1008141237   \n",
      "2  PILOT STYLE Touch Pen de marque Speedlink est ...   201115110   938777978   \n",
      "3                                                NaN    50418756   457047496   \n",
      "4  Luc a des id&eacute;es de grandeur. Il veut or...   278535884  1077757786   \n",
      "\n",
      "                                image_name  \\\n",
      "0  image_1263597046_product_3804725264.jpg   \n",
      "1   image_1008141237_product_436067568.jpg   \n",
      "2    image_938777978_product_201115110.jpg   \n",
      "3     image_457047496_product_50418756.jpg   \n",
      "4   image_1077757786_product_278535884.jpg   \n",
      "\n",
      "                                          image_path  \n",
      "0  C:/Users/user/OneDrive/DATASIENCETEST/PROJET/D...  \n",
      "1  C:/Users/user/OneDrive/DATASIENCETEST/PROJET/D...  \n",
      "2  C:/Users/user/OneDrive/DATASIENCETEST/PROJET/D...  \n",
      "3  C:/Users/user/OneDrive/DATASIENCETEST/PROJET/D...  \n",
      "4  C:/Users/user/OneDrive/DATASIENCETEST/PROJET/D...  \n",
      "Index(['designation', 'description', 'productid', 'imageid', 'image_name',\n",
      "       'image_path'],\n",
      "      dtype='object')\n"
     ]
    },
    {
     "data": {
      "text/html": [
       "<div>\n",
       "<style scoped>\n",
       "    .dataframe tbody tr th:only-of-type {\n",
       "        vertical-align: middle;\n",
       "    }\n",
       "\n",
       "    .dataframe tbody tr th {\n",
       "        vertical-align: top;\n",
       "    }\n",
       "\n",
       "    .dataframe thead th {\n",
       "        text-align: right;\n",
       "    }\n",
       "</style>\n",
       "<table border=\"1\" class=\"dataframe\">\n",
       "  <thead>\n",
       "    <tr style=\"text-align: right;\">\n",
       "      <th></th>\n",
       "      <th>designation</th>\n",
       "      <th>description</th>\n",
       "      <th>productid</th>\n",
       "      <th>imageid</th>\n",
       "      <th>image_name</th>\n",
       "      <th>image_path</th>\n",
       "      <th>prdtypecode</th>\n",
       "    </tr>\n",
       "  </thead>\n",
       "  <tbody>\n",
       "    <tr>\n",
       "      <th>0</th>\n",
       "      <td>Olivia: Personalisiertes Notizbuch / 150 Seite...</td>\n",
       "      <td>NaN</td>\n",
       "      <td>3804725264</td>\n",
       "      <td>1263597046</td>\n",
       "      <td>image_1263597046_product_3804725264.jpg</td>\n",
       "      <td>C:/Users/user/OneDrive/DATASIENCETEST/PROJET/D...</td>\n",
       "      <td>10</td>\n",
       "    </tr>\n",
       "    <tr>\n",
       "      <th>1</th>\n",
       "      <td>Journal Des Arts (Le) N° 133 Du 28/09/2001 - L...</td>\n",
       "      <td>NaN</td>\n",
       "      <td>436067568</td>\n",
       "      <td>1008141237</td>\n",
       "      <td>image_1008141237_product_436067568.jpg</td>\n",
       "      <td>C:/Users/user/OneDrive/DATASIENCETEST/PROJET/D...</td>\n",
       "      <td>2280</td>\n",
       "    </tr>\n",
       "    <tr>\n",
       "      <th>2</th>\n",
       "      <td>Grand Stylet Ergonomique Bleu Gamepad Nintendo...</td>\n",
       "      <td>PILOT STYLE Touch Pen de marque Speedlink est ...</td>\n",
       "      <td>201115110</td>\n",
       "      <td>938777978</td>\n",
       "      <td>image_938777978_product_201115110.jpg</td>\n",
       "      <td>C:/Users/user/OneDrive/DATASIENCETEST/PROJET/D...</td>\n",
       "      <td>50</td>\n",
       "    </tr>\n",
       "    <tr>\n",
       "      <th>3</th>\n",
       "      <td>Peluche Donald - Europe - Disneyland 2000 (Mar...</td>\n",
       "      <td>NaN</td>\n",
       "      <td>50418756</td>\n",
       "      <td>457047496</td>\n",
       "      <td>image_457047496_product_50418756.jpg</td>\n",
       "      <td>C:/Users/user/OneDrive/DATASIENCETEST/PROJET/D...</td>\n",
       "      <td>1280</td>\n",
       "    </tr>\n",
       "    <tr>\n",
       "      <th>4</th>\n",
       "      <td>La Guerre Des Tuques</td>\n",
       "      <td>Luc a des id&amp;eacute;es de grandeur. Il veut or...</td>\n",
       "      <td>278535884</td>\n",
       "      <td>1077757786</td>\n",
       "      <td>image_1077757786_product_278535884.jpg</td>\n",
       "      <td>C:/Users/user/OneDrive/DATASIENCETEST/PROJET/D...</td>\n",
       "      <td>2705</td>\n",
       "    </tr>\n",
       "  </tbody>\n",
       "</table>\n",
       "</div>"
      ],
      "text/plain": [
       "                                         designation  \\\n",
       "0  Olivia: Personalisiertes Notizbuch / 150 Seite...   \n",
       "1  Journal Des Arts (Le) N° 133 Du 28/09/2001 - L...   \n",
       "2  Grand Stylet Ergonomique Bleu Gamepad Nintendo...   \n",
       "3  Peluche Donald - Europe - Disneyland 2000 (Mar...   \n",
       "4                               La Guerre Des Tuques   \n",
       "\n",
       "                                         description   productid     imageid  \\\n",
       "0                                                NaN  3804725264  1263597046   \n",
       "1                                                NaN   436067568  1008141237   \n",
       "2  PILOT STYLE Touch Pen de marque Speedlink est ...   201115110   938777978   \n",
       "3                                                NaN    50418756   457047496   \n",
       "4  Luc a des id&eacute;es de grandeur. Il veut or...   278535884  1077757786   \n",
       "\n",
       "                                image_name  \\\n",
       "0  image_1263597046_product_3804725264.jpg   \n",
       "1   image_1008141237_product_436067568.jpg   \n",
       "2    image_938777978_product_201115110.jpg   \n",
       "3     image_457047496_product_50418756.jpg   \n",
       "4   image_1077757786_product_278535884.jpg   \n",
       "\n",
       "                                          image_path  prdtypecode  \n",
       "0  C:/Users/user/OneDrive/DATASIENCETEST/PROJET/D...           10  \n",
       "1  C:/Users/user/OneDrive/DATASIENCETEST/PROJET/D...         2280  \n",
       "2  C:/Users/user/OneDrive/DATASIENCETEST/PROJET/D...           50  \n",
       "3  C:/Users/user/OneDrive/DATASIENCETEST/PROJET/D...         1280  \n",
       "4  C:/Users/user/OneDrive/DATASIENCETEST/PROJET/D...         2705  "
      ]
     },
     "metadata": {},
     "output_type": "display_data"
    }
   ],
   "source": [
    "print(y_df.head())\n",
    "print(y_df.columns)\n",
    "print(X_df.head())\n",
    "print(X_df.columns)\n",
    "display(dataset.head())"
   ]
  },
  {
   "cell_type": "code",
   "execution_count": 38,
   "metadata": {},
   "outputs": [],
   "source": [
    "# Séparation des données en ensembles d'entraînement et de test\n",
    "X_train, X_test, y_train, y_test = train_test_split(dataset['image_path'], dataset['prdtypecode'], test_size=0.2, random_state=42)\n",
    "\n"
   ]
  },
  {
   "cell_type": "code",
   "execution_count": 39,
   "metadata": {},
   "outputs": [
    {
     "name": "stdout",
     "output_type": "stream",
     "text": [
      "Found 67932 validated image filenames belonging to 27 classes.\n",
      "Found 16984 validated image filenames belonging to 27 classes.\n"
     ]
    }
   ],
   "source": [
    "# Configuration du générateur de données - Training set\n",
    "train_datagen = ImageDataGenerator(preprocessing_function=tf.keras.applications.efficientnet.preprocess_input,\n",
    "                                   shear_range=0.2,\n",
    "                                   zoom_range=0.1,\n",
    "                                   rotation_range=10,\n",
    "                                   width_shift_range=0.1,\n",
    "                                   height_shift_range=0.1,\n",
    "                                   horizontal_flip=True)\n",
    "\n",
    "# Configuration du générateur de données - Validation set\n",
    "test_datagen = ImageDataGenerator(preprocessing_function=tf.keras.applications.efficientnet.preprocess_input)\n",
    "\n",
    "# Convertir les étiquettes en chaînes pour répondre aux exigences du générateur\n",
    "y_train_str = y_train.astype(str)\n",
    "y_test_str = y_test.astype(str)\n",
    "\n",
    "# Préparation des générateurs\n",
    "train_generator = train_datagen.flow_from_dataframe(\n",
    "    dataframe=X_train.to_frame(name='image_path').join(y_train_str.to_frame(name='prdtypecode')),\n",
    "    x_col='image_path',\n",
    "    y_col='prdtypecode',\n",
    "    class_mode='sparse',\n",
    "    target_size=(224, 224),\n",
    "    batch_size=32\n",
    ")\n",
    "\n",
    "test_generator = test_datagen.flow_from_dataframe(\n",
    "    dataframe=X_test.to_frame(name='image_path').join(y_test_str.to_frame(name='prdtypecode')),\n",
    "    x_col='image_path',\n",
    "    y_col='prdtypecode',\n",
    "    class_mode='sparse',\n",
    "    target_size=(224, 224),\n",
    "    batch_size=32\n",
    ")\n"
   ]
  },
  {
   "cell_type": "code",
   "execution_count": 40,
   "metadata": {},
   "outputs": [],
   "source": [
    "# Construction du modèle EfficientNetB1\n",
    "base_model = tf.keras.applications.EfficientNetB1(weights='imagenet', include_top=False, input_tensor=Input(shape=(224, 224, 3)))\n",
    "\n",
    "# Gel des couches\n",
    "for layer in base_model.layers:\n",
    "    layer.trainable = False\n",
    "\n",
    "# Ajout des nouvelles couches\n",
    "inputs = Input(shape=(224, 224, 3))\n",
    "x = base_model(inputs, training=False)\n",
    "x = GlobalAveragePooling2D()(x)\n",
    "x = Dense(1024, activation='relu')(x)\n",
    "x = Dropout(0.5)(x)\n",
    "x = Dense(512, activation='relu')(x)\n",
    "x = Dropout(0.2)(x)\n",
    "outputs = Dense(len(y_df['prdtypecode'].unique()), activation='softmax')(x)\n",
    "model = Model(inputs, outputs)\n",
    "\n",
    "# Compilation du modèle\n",
    "model.compile(optimizer='adam', loss='sparse_categorical_crossentropy', metrics=['accuracy'])\n"
   ]
  },
  {
   "cell_type": "code",
   "execution_count": 41,
   "metadata": {},
   "outputs": [
    {
     "name": "stdout",
     "output_type": "stream",
     "text": [
      "Epoch 1/10\n"
     ]
    },
    {
     "name": "stderr",
     "output_type": "stream",
     "text": [
      "C:\\Users\\user\\AppData\\Local\\Packages\\PythonSoftwareFoundation.Python.3.10_qbz5n2kfra8p0\\LocalCache\\local-packages\\Python310\\site-packages\\keras\\src\\trainers\\data_adapters\\py_dataset_adapter.py:120: UserWarning: Your `PyDataset` class should call `super().__init__(**kwargs)` in its constructor. `**kwargs` can include `workers`, `use_multiprocessing`, `max_queue_size`. Do not pass these arguments to `fit()`, as they will be ignored.\n",
      "  self._warn_if_super_not_called()\n"
     ]
    },
    {
     "name": "stdout",
     "output_type": "stream",
     "text": [
      "\u001b[1m2123/2123\u001b[0m \u001b[32m━━━━━━━━━━━━━━━━━━━━\u001b[0m\u001b[37m\u001b[0m \u001b[1m7503s\u001b[0m 4s/step - accuracy: 0.4422 - loss: 1.9200 - val_accuracy: 0.5583 - val_loss: 1.4628\n",
      "Epoch 2/10\n",
      "\u001b[1m2123/2123\u001b[0m \u001b[32m━━━━━━━━━━━━━━━━━━━━\u001b[0m\u001b[37m\u001b[0m \u001b[1m48188s\u001b[0m 23s/step - accuracy: 0.5406 - loss: 1.5373 - val_accuracy: 0.5742 - val_loss: 1.4251\n",
      "Epoch 3/10\n",
      "\u001b[1m2123/2123\u001b[0m \u001b[32m━━━━━━━━━━━━━━━━━━━━\u001b[0m\u001b[37m\u001b[0m \u001b[1m10891s\u001b[0m 5s/step - accuracy: 0.5620 - loss: 1.4595 - val_accuracy: 0.5805 - val_loss: 1.3846\n",
      "Epoch 4/10\n",
      "\u001b[1m2123/2123\u001b[0m \u001b[32m━━━━━━━━━━━━━━━━━━━━\u001b[0m\u001b[37m\u001b[0m \u001b[1m9656s\u001b[0m 5s/step - accuracy: 0.5745 - loss: 1.4106 - val_accuracy: 0.5904 - val_loss: 1.3531\n",
      "Epoch 5/10\n",
      "\u001b[1m2123/2123\u001b[0m \u001b[32m━━━━━━━━━━━━━━━━━━━━\u001b[0m\u001b[37m\u001b[0m \u001b[1m10590s\u001b[0m 5s/step - accuracy: 0.5842 - loss: 1.3819 - val_accuracy: 0.5981 - val_loss: 1.3547\n",
      "Epoch 6/10\n",
      "\u001b[1m2123/2123\u001b[0m \u001b[32m━━━━━━━━━━━━━━━━━━━━\u001b[0m\u001b[37m\u001b[0m \u001b[1m10070s\u001b[0m 5s/step - accuracy: 0.5902 - loss: 1.3468 - val_accuracy: 0.5995 - val_loss: 1.3373\n",
      "Epoch 7/10\n",
      "\u001b[1m2123/2123\u001b[0m \u001b[32m━━━━━━━━━━━━━━━━━━━━\u001b[0m\u001b[37m\u001b[0m \u001b[1m9618s\u001b[0m 5s/step - accuracy: 0.6013 - loss: 1.3190 - val_accuracy: 0.6003 - val_loss: 1.3270\n",
      "Epoch 8/10\n",
      "\u001b[1m2123/2123\u001b[0m \u001b[32m━━━━━━━━━━━━━━━━━━━━\u001b[0m\u001b[37m\u001b[0m \u001b[1m8573s\u001b[0m 4s/step - accuracy: 0.6052 - loss: 1.2999 - val_accuracy: 0.5980 - val_loss: 1.3325\n",
      "Epoch 9/10\n",
      "\u001b[1m2123/2123\u001b[0m \u001b[32m━━━━━━━━━━━━━━━━━━━━\u001b[0m\u001b[37m\u001b[0m \u001b[1m8635s\u001b[0m 4s/step - accuracy: 0.6042 - loss: 1.2902 - val_accuracy: 0.6059 - val_loss: 1.3208\n",
      "Epoch 10/10\n",
      "\u001b[1m2123/2123\u001b[0m \u001b[32m━━━━━━━━━━━━━━━━━━━━\u001b[0m\u001b[37m\u001b[0m \u001b[1m8991s\u001b[0m 4s/step - accuracy: 0.6146 - loss: 1.2583 - val_accuracy: 0.6004 - val_loss: 1.3356\n"
     ]
    }
   ],
   "source": [
    "#Entraînement initial du modèle (avec couches gelées)\n",
    "history = model.fit(train_generator,\n",
    "                    validation_data=test_generator,\n",
    "                    epochs=10,\n",
    "                    callbacks=[tf.keras.callbacks.EarlyStopping(monitor='val_loss', patience=3)])\n"
   ]
  },
  {
   "cell_type": "code",
   "execution_count": 42,
   "metadata": {},
   "outputs": [
    {
     "name": "stdout",
     "output_type": "stream",
     "text": [
      "\u001b[1m2123/2123\u001b[0m \u001b[32m━━━━━━━━━━━━━━━━━━━━\u001b[0m\u001b[37m\u001b[0m \u001b[1m7809s\u001b[0m 4s/step - accuracy: 0.6946 - loss: 1.0470\n",
      "Test Loss: 1.0434811115264893\n",
      "Test Accuracy: 0.6958429217338562\n"
     ]
    }
   ],
   "source": [
    "import numpy as np\n",
    "\n",
    "# Calcul du nombre de steps nécessaire, en convertissant le résultat en int pour éviter des erreurs de type\n",
    "steps_per_epoch = int(np.ceil(len(X_train) / 32))\n",
    "# Évaluation du modèle sur l'ensemble de train\n",
    "loss, accuracy = model.evaluate(train_generator, steps=steps_per_epoch)\n",
    "print(f\"Train Loss: {loss}\")\n",
    "print(f\"Train Accuracy: {accuracy}\")"
   ]
  },
  {
   "cell_type": "code",
   "execution_count": 44,
   "metadata": {},
   "outputs": [
    {
     "name": "stdout",
     "output_type": "stream",
     "text": [
      "\u001b[1m2123/2123\u001b[0m \u001b[32m━━━━━━━━━━━━━━━━━━━━\u001b[0m\u001b[37m\u001b[0m \u001b[1m7617s\u001b[0m 4s/step - accuracy: 0.6959 - loss: 1.0424\n",
      "Training Loss: 1.0459259748458862\n",
      "Training Accuracy: 0.6951068639755249\n"
     ]
    }
   ],
   "source": [
    "import numpy as np\n",
    "from sklearn.metrics import classification_report, f1_score, precision_score, recall_score\n",
    "\n",
    "\n",
    "\n",
    "# Calcul du nombre de steps nécessaire pour parcourir les données sans répétition\n",
    "train_steps = int(np.ceil(len(X_train) / 32))\n",
    "test_steps = int(np.ceil(len(X_test) / 32))\n",
    "\n",
    "# Évaluation du modèle sur l'ensemble d'entraînement\n",
    "train_loss, train_accuracy = model.evaluate(train_generator, steps=train_steps)\n",
    "print(f\"Training Loss: {train_loss}\")\n",
    "print(f\"Training Accuracy: {train_accuracy}\")"
   ]
  },
  {
   "cell_type": "code",
   "execution_count": 45,
   "metadata": {},
   "outputs": [
    {
     "name": "stdout",
     "output_type": "stream",
     "text": [
      "\u001b[1m531/531\u001b[0m \u001b[32m━━━━━━━━━━━━━━━━━━━━\u001b[0m\u001b[37m\u001b[0m \u001b[1m1449s\u001b[0m 3s/step - accuracy: 0.6063 - loss: 1.3318\n",
      "Test Loss: 1.3356013298034668\n",
      "Test Accuracy: 0.6003885865211487\n"
     ]
    }
   ],
   "source": [
    "# Évaluation du modèle sur l'ensemble de test\n",
    "test_loss, test_accuracy = model.evaluate(test_generator, steps=test_steps)\n",
    "print(f\"Test Loss: {test_loss}\")\n",
    "print(f\"Test Accuracy: {test_accuracy}\")"
   ]
  },
  {
   "cell_type": "code",
   "execution_count": 46,
   "metadata": {},
   "outputs": [
    {
     "name": "stdout",
     "output_type": "stream",
     "text": [
      "\u001b[1m531/531\u001b[0m \u001b[32m━━━━━━━━━━━━━━━━━━━━\u001b[0m\u001b[37m\u001b[0m \u001b[1m1685s\u001b[0m 3s/step\n",
      "Precision: 0.05\n",
      "Recall: 0.05\n",
      "F1 Score: 0.05\n"
     ]
    }
   ],
   "source": [
    "# Prédiction des étiquettes sur l'ensemble de test pour calcul des métriques\n",
    "test_predictions = model.predict(test_generator, steps=test_steps)\n",
    "predicted_classes = np.argmax(test_predictions, axis=1)\n",
    "\n",
    "# Obtention des vraies étiquettes de test à partir du générateur\n",
    "\n",
    "true_classes = test_generator.classes\n",
    "\n",
    "# Calcul de la précision, du rappel et du score F1\n",
    "precision = precision_score(true_classes, predicted_classes, average='weighted')\n",
    "recall = recall_score(true_classes, predicted_classes, average='weighted')\n",
    "f1 = f1_score(true_classes, predicted_classes, average='weighted')\n",
    "\n",
    "print(f\"Precision: {precision:.2f}\")\n",
    "print(f\"Recall: {recall:.2f}\")\n",
    "print(f\"F1 Score: {f1:.2f}\")\n",
    "\n"
   ]
  },
  {
   "cell_type": "code",
   "execution_count": 48,
   "metadata": {},
   "outputs": [
    {
     "name": "stdout",
     "output_type": "stream",
     "text": [
      "\u001b[1m531/531\u001b[0m \u001b[32m━━━━━━━━━━━━━━━━━━━━\u001b[0m\u001b[37m\u001b[0m \u001b[1m1436s\u001b[0m 3s/step - accuracy: 0.5932 - loss: 1.3325\n",
      "Validation Accuracy: 60.04%\n"
     ]
    }
   ],
   "source": [
    "# Évaluation du modèle sur le set de test\n",
    "val_loss, val_accuracy = model.evaluate(test_generator)\n",
    "print(f\"Validation Accuracy: {val_accuracy*100:.2f}%\")"
   ]
  }
 ],
 "metadata": {
  "kernelspec": {
   "display_name": "Python 3",
   "language": "python",
   "name": "python3"
  },
  "language_info": {
   "codemirror_mode": {
    "name": "ipython",
    "version": 3
   },
   "file_extension": ".py",
   "mimetype": "text/x-python",
   "name": "python",
   "nbconvert_exporter": "python",
   "pygments_lexer": "ipython3",
   "version": "3.10.11"
  }
 },
 "nbformat": 4,
 "nbformat_minor": 2
}
